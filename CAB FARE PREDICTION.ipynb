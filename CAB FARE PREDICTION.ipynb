{
 "cells": [
  {
   "cell_type": "code",
   "execution_count": 1,
   "metadata": {},
   "outputs": [],
   "source": [
    "#Load libraries\n",
    "import os\n",
    "import pandas as pd\n",
    "import numpy as np\n",
    "import matplotlib.pyplot as plt\n",
    "from scipy.stats import chi2_contingency\n",
    "import seaborn as sns\n",
    "from random import randrange, uniform\n",
    "from sklearn.ensemble import RandomForestRegressor\n",
    "import statsmodels.api as sm\n",
    "import scipy.stats as stats\n",
    "from statsmodels.formula.api import ols"
   ]
  },
  {
   "cell_type": "code",
   "execution_count": 2,
   "metadata": {},
   "outputs": [],
   "source": [
    "#Set The Current working directory\n",
    "os.chdir(\"C:/Users/Best Lappy/Desktop/EDWISOR/Projects/CFP\")"
   ]
  },
  {
   "cell_type": "code",
   "execution_count": 3,
   "metadata": {},
   "outputs": [
    {
     "data": {
      "text/plain": [
       "'C:\\\\Users\\\\Best Lappy\\\\Desktop\\\\EDWISOR\\\\Projects\\\\CFP'"
      ]
     },
     "execution_count": 3,
     "metadata": {},
     "output_type": "execute_result"
    }
   ],
   "source": [
    "os.getcwd()"
   ]
  },
  {
   "cell_type": "code",
   "execution_count": 4,
   "metadata": {},
   "outputs": [],
   "source": [
    "#Load Data\n",
    "train = pd.read_csv(\"train_cab.csv\", header = 0, na_values={\"passenger_count\":\"430-\",\"pickup_datetime\":\"43\"})"
   ]
  },
  {
   "cell_type": "code",
   "execution_count": 5,
   "metadata": {},
   "outputs": [
    {
     "data": {
      "text/plain": [
       "fare_amount           object\n",
       "pickup_datetime       object\n",
       "pickup_longitude     float64\n",
       "pickup_latitude      float64\n",
       "dropoff_longitude    float64\n",
       "dropoff_latitude     float64\n",
       "passenger_count      float64\n",
       "dtype: object"
      ]
     },
     "execution_count": 5,
     "metadata": {},
     "output_type": "execute_result"
    }
   ],
   "source": [
    "train.dtypes"
   ]
  },
  {
   "cell_type": "code",
   "execution_count": 6,
   "metadata": {},
   "outputs": [
    {
     "data": {
      "text/html": [
       "<div>\n",
       "<style scoped>\n",
       "    .dataframe tbody tr th:only-of-type {\n",
       "        vertical-align: middle;\n",
       "    }\n",
       "\n",
       "    .dataframe tbody tr th {\n",
       "        vertical-align: top;\n",
       "    }\n",
       "\n",
       "    .dataframe thead th {\n",
       "        text-align: right;\n",
       "    }\n",
       "</style>\n",
       "<table border=\"1\" class=\"dataframe\">\n",
       "  <thead>\n",
       "    <tr style=\"text-align: right;\">\n",
       "      <th></th>\n",
       "      <th>pickup_longitude</th>\n",
       "      <th>pickup_latitude</th>\n",
       "      <th>dropoff_longitude</th>\n",
       "      <th>dropoff_latitude</th>\n",
       "      <th>passenger_count</th>\n",
       "    </tr>\n",
       "  </thead>\n",
       "  <tbody>\n",
       "    <tr>\n",
       "      <th>count</th>\n",
       "      <td>16067.000000</td>\n",
       "      <td>16067.000000</td>\n",
       "      <td>16067.000000</td>\n",
       "      <td>16067.000000</td>\n",
       "      <td>16012.000000</td>\n",
       "    </tr>\n",
       "    <tr>\n",
       "      <th>mean</th>\n",
       "      <td>-72.462787</td>\n",
       "      <td>39.914725</td>\n",
       "      <td>-72.462328</td>\n",
       "      <td>39.897906</td>\n",
       "      <td>2.625070</td>\n",
       "    </tr>\n",
       "    <tr>\n",
       "      <th>std</th>\n",
       "      <td>10.578384</td>\n",
       "      <td>6.826587</td>\n",
       "      <td>10.575062</td>\n",
       "      <td>6.187087</td>\n",
       "      <td>60.844122</td>\n",
       "    </tr>\n",
       "    <tr>\n",
       "      <th>min</th>\n",
       "      <td>-74.438233</td>\n",
       "      <td>-74.006893</td>\n",
       "      <td>-74.429332</td>\n",
       "      <td>-74.006377</td>\n",
       "      <td>0.000000</td>\n",
       "    </tr>\n",
       "    <tr>\n",
       "      <th>25%</th>\n",
       "      <td>-73.992156</td>\n",
       "      <td>40.734927</td>\n",
       "      <td>-73.991182</td>\n",
       "      <td>40.734651</td>\n",
       "      <td>1.000000</td>\n",
       "    </tr>\n",
       "    <tr>\n",
       "      <th>50%</th>\n",
       "      <td>-73.981698</td>\n",
       "      <td>40.752603</td>\n",
       "      <td>-73.980172</td>\n",
       "      <td>40.753567</td>\n",
       "      <td>1.000000</td>\n",
       "    </tr>\n",
       "    <tr>\n",
       "      <th>75%</th>\n",
       "      <td>-73.966838</td>\n",
       "      <td>40.767381</td>\n",
       "      <td>-73.963643</td>\n",
       "      <td>40.768013</td>\n",
       "      <td>2.000000</td>\n",
       "    </tr>\n",
       "    <tr>\n",
       "      <th>max</th>\n",
       "      <td>40.766125</td>\n",
       "      <td>401.083332</td>\n",
       "      <td>40.802437</td>\n",
       "      <td>41.366138</td>\n",
       "      <td>5345.000000</td>\n",
       "    </tr>\n",
       "  </tbody>\n",
       "</table>\n",
       "</div>"
      ],
      "text/plain": [
       "       pickup_longitude  pickup_latitude  dropoff_longitude  dropoff_latitude  \\\n",
       "count      16067.000000     16067.000000       16067.000000      16067.000000   \n",
       "mean         -72.462787        39.914725         -72.462328         39.897906   \n",
       "std           10.578384         6.826587          10.575062          6.187087   \n",
       "min          -74.438233       -74.006893         -74.429332        -74.006377   \n",
       "25%          -73.992156        40.734927         -73.991182         40.734651   \n",
       "50%          -73.981698        40.752603         -73.980172         40.753567   \n",
       "75%          -73.966838        40.767381         -73.963643         40.768013   \n",
       "max           40.766125       401.083332          40.802437         41.366138   \n",
       "\n",
       "       passenger_count  \n",
       "count     16012.000000  \n",
       "mean          2.625070  \n",
       "std          60.844122  \n",
       "min           0.000000  \n",
       "25%           1.000000  \n",
       "50%           1.000000  \n",
       "75%           2.000000  \n",
       "max        5345.000000  "
      ]
     },
     "execution_count": 6,
     "metadata": {},
     "output_type": "execute_result"
    }
   ],
   "source": [
    "train.describe()"
   ]
  },
  {
   "cell_type": "code",
   "execution_count": 7,
   "metadata": {},
   "outputs": [],
   "source": [
    "#replace 0 with 'nan' in the variables and convert the data wherever required for further operations\n",
    "\n",
    "train['fare_amount'] = train['fare_amount'].apply(pd.to_numeric,errors ='coerce')\n",
    "train['fare_amount'] = train['fare_amount'].replace({0:np.nan})\n",
    "train['passenger_count'] = train['passenger_count'].fillna(0)\n",
    "train['passenger_count'] = train['passenger_count'].astype(int)\n",
    "train['passenger_count'] = train['passenger_count'].replace({0:np.nan})\n",
    "train['pickup_latitude'] = train['pickup_latitude'].replace({0:np.nan})\n",
    "train['pickup_longitude'] = train['pickup_longitude'].replace({0:np.nan})\n",
    "train['dropoff_latitude'] = train['dropoff_latitude'].replace({0:np.nan})\n",
    "train['dropoff_longitude'] = train['dropoff_longitude'].replace({0:np.nan})"
   ]
  },
  {
   "cell_type": "code",
   "execution_count": 8,
   "metadata": {},
   "outputs": [
    {
     "data": {
      "text/html": [
       "<div>\n",
       "<style scoped>\n",
       "    .dataframe tbody tr th:only-of-type {\n",
       "        vertical-align: middle;\n",
       "    }\n",
       "\n",
       "    .dataframe tbody tr th {\n",
       "        vertical-align: top;\n",
       "    }\n",
       "\n",
       "    .dataframe thead th {\n",
       "        text-align: right;\n",
       "    }\n",
       "</style>\n",
       "<table border=\"1\" class=\"dataframe\">\n",
       "  <thead>\n",
       "    <tr style=\"text-align: right;\">\n",
       "      <th></th>\n",
       "      <th>fare_amount</th>\n",
       "      <th>pickup_datetime</th>\n",
       "      <th>pickup_longitude</th>\n",
       "      <th>pickup_latitude</th>\n",
       "      <th>dropoff_longitude</th>\n",
       "      <th>dropoff_latitude</th>\n",
       "      <th>passenger_count</th>\n",
       "    </tr>\n",
       "  </thead>\n",
       "  <tbody>\n",
       "    <tr>\n",
       "      <th>2039</th>\n",
       "      <td>-2.9</td>\n",
       "      <td>2010-03-09 23:37:10 UTC</td>\n",
       "      <td>-73.789450</td>\n",
       "      <td>40.643498</td>\n",
       "      <td>-73.788665</td>\n",
       "      <td>40.641952</td>\n",
       "      <td>1.0</td>\n",
       "    </tr>\n",
       "    <tr>\n",
       "      <th>2486</th>\n",
       "      <td>-2.5</td>\n",
       "      <td>2015-03-22 05:14:27 UTC</td>\n",
       "      <td>-74.000031</td>\n",
       "      <td>40.720631</td>\n",
       "      <td>-73.999809</td>\n",
       "      <td>40.720539</td>\n",
       "      <td>1.0</td>\n",
       "    </tr>\n",
       "    <tr>\n",
       "      <th>13032</th>\n",
       "      <td>-3.0</td>\n",
       "      <td>2013-08-30 08:57:10 UTC</td>\n",
       "      <td>-73.995062</td>\n",
       "      <td>40.740755</td>\n",
       "      <td>-73.995885</td>\n",
       "      <td>40.741357</td>\n",
       "      <td>4.0</td>\n",
       "    </tr>\n",
       "  </tbody>\n",
       "</table>\n",
       "</div>"
      ],
      "text/plain": [
       "       fare_amount          pickup_datetime  pickup_longitude  \\\n",
       "2039          -2.9  2010-03-09 23:37:10 UTC        -73.789450   \n",
       "2486          -2.5  2015-03-22 05:14:27 UTC        -74.000031   \n",
       "13032         -3.0  2013-08-30 08:57:10 UTC        -73.995062   \n",
       "\n",
       "       pickup_latitude  dropoff_longitude  dropoff_latitude  passenger_count  \n",
       "2039         40.643498         -73.788665         40.641952              1.0  \n",
       "2486         40.720631         -73.999809         40.720539              1.0  \n",
       "13032        40.740755         -73.995885         40.741357              4.0  "
      ]
     },
     "execution_count": 8,
     "metadata": {},
     "output_type": "execute_result"
    }
   ],
   "source": [
    "train.loc[train['fare_amount'] < 0]"
   ]
  },
  {
   "cell_type": "code",
   "execution_count": 9,
   "metadata": {},
   "outputs": [
    {
     "data": {
      "text/html": [
       "<div>\n",
       "<style scoped>\n",
       "    .dataframe tbody tr th:only-of-type {\n",
       "        vertical-align: middle;\n",
       "    }\n",
       "\n",
       "    .dataframe tbody tr th {\n",
       "        vertical-align: top;\n",
       "    }\n",
       "\n",
       "    .dataframe thead th {\n",
       "        text-align: right;\n",
       "    }\n",
       "</style>\n",
       "<table border=\"1\" class=\"dataframe\">\n",
       "  <thead>\n",
       "    <tr style=\"text-align: right;\">\n",
       "      <th></th>\n",
       "      <th>fare_amount</th>\n",
       "      <th>pickup_datetime</th>\n",
       "      <th>pickup_longitude</th>\n",
       "      <th>pickup_latitude</th>\n",
       "      <th>dropoff_longitude</th>\n",
       "      <th>dropoff_latitude</th>\n",
       "      <th>passenger_count</th>\n",
       "    </tr>\n",
       "  </thead>\n",
       "  <tbody>\n",
       "    <tr>\n",
       "      <th>233</th>\n",
       "      <td>8.5</td>\n",
       "      <td>2011-07-24 01:14:35 UTC</td>\n",
       "      <td>NaN</td>\n",
       "      <td>NaN</td>\n",
       "      <td>NaN</td>\n",
       "      <td>NaN</td>\n",
       "      <td>236.0</td>\n",
       "    </tr>\n",
       "    <tr>\n",
       "      <th>263</th>\n",
       "      <td>4.9</td>\n",
       "      <td>2010-07-12 09:44:33 UTC</td>\n",
       "      <td>-73.983249</td>\n",
       "      <td>40.734655</td>\n",
       "      <td>-73.991278</td>\n",
       "      <td>40.738918</td>\n",
       "      <td>456.0</td>\n",
       "    </tr>\n",
       "    <tr>\n",
       "      <th>293</th>\n",
       "      <td>6.1</td>\n",
       "      <td>2011-01-18 23:48:00 UTC</td>\n",
       "      <td>-74.006642</td>\n",
       "      <td>40.738927</td>\n",
       "      <td>-74.010828</td>\n",
       "      <td>40.717907</td>\n",
       "      <td>5334.0</td>\n",
       "    </tr>\n",
       "    <tr>\n",
       "      <th>356</th>\n",
       "      <td>8.5</td>\n",
       "      <td>2013-06-18 10:27:05 UTC</td>\n",
       "      <td>-73.992108</td>\n",
       "      <td>40.764203</td>\n",
       "      <td>-73.973000</td>\n",
       "      <td>40.762695</td>\n",
       "      <td>535.0</td>\n",
       "    </tr>\n",
       "    <tr>\n",
       "      <th>386</th>\n",
       "      <td>8.1</td>\n",
       "      <td>2009-08-21 19:35:05 UTC</td>\n",
       "      <td>-73.960853</td>\n",
       "      <td>40.761557</td>\n",
       "      <td>-73.976335</td>\n",
       "      <td>40.748361</td>\n",
       "      <td>354.0</td>\n",
       "    </tr>\n",
       "    <tr>\n",
       "      <th>413</th>\n",
       "      <td>NaN</td>\n",
       "      <td>2013-09-12 11:32:00 UTC</td>\n",
       "      <td>-73.982060</td>\n",
       "      <td>40.772705</td>\n",
       "      <td>-73.956213</td>\n",
       "      <td>40.771777</td>\n",
       "      <td>55.0</td>\n",
       "    </tr>\n",
       "    <tr>\n",
       "      <th>971</th>\n",
       "      <td>10.1</td>\n",
       "      <td>2010-11-21 01:41:00 UTC</td>\n",
       "      <td>-74.004500</td>\n",
       "      <td>40.742143</td>\n",
       "      <td>-73.994330</td>\n",
       "      <td>40.720412</td>\n",
       "      <td>554.0</td>\n",
       "    </tr>\n",
       "    <tr>\n",
       "      <th>1007</th>\n",
       "      <td>3.7</td>\n",
       "      <td>2010-12-14 14:46:00 UTC</td>\n",
       "      <td>-73.969157</td>\n",
       "      <td>40.759000</td>\n",
       "      <td>-73.968763</td>\n",
       "      <td>40.764617</td>\n",
       "      <td>53.0</td>\n",
       "    </tr>\n",
       "    <tr>\n",
       "      <th>1043</th>\n",
       "      <td>5.7</td>\n",
       "      <td>2012-08-22 22:08:29 UTC</td>\n",
       "      <td>-73.973573</td>\n",
       "      <td>40.760184</td>\n",
       "      <td>-73.953564</td>\n",
       "      <td>40.767392</td>\n",
       "      <td>35.0</td>\n",
       "    </tr>\n",
       "    <tr>\n",
       "      <th>1107</th>\n",
       "      <td>4.9</td>\n",
       "      <td>2009-08-08 21:50:50 UTC</td>\n",
       "      <td>-73.988977</td>\n",
       "      <td>40.721068</td>\n",
       "      <td>-73.982368</td>\n",
       "      <td>40.732064</td>\n",
       "      <td>345.0</td>\n",
       "    </tr>\n",
       "    <tr>\n",
       "      <th>1146</th>\n",
       "      <td>8.0</td>\n",
       "      <td>2014-03-27 08:05:01 UTC</td>\n",
       "      <td>-73.991098</td>\n",
       "      <td>40.770655</td>\n",
       "      <td>-73.976933</td>\n",
       "      <td>40.790070</td>\n",
       "      <td>5345.0</td>\n",
       "    </tr>\n",
       "    <tr>\n",
       "      <th>1200</th>\n",
       "      <td>9.7</td>\n",
       "      <td>2011-08-16 09:29:00 UTC</td>\n",
       "      <td>-73.980487</td>\n",
       "      <td>40.741610</td>\n",
       "      <td>-73.980617</td>\n",
       "      <td>40.746868</td>\n",
       "      <td>536.0</td>\n",
       "    </tr>\n",
       "    <tr>\n",
       "      <th>1242</th>\n",
       "      <td>5.3</td>\n",
       "      <td>2011-10-16 00:22:00 UTC</td>\n",
       "      <td>-73.981095</td>\n",
       "      <td>40.738160</td>\n",
       "      <td>-73.990587</td>\n",
       "      <td>40.740105</td>\n",
       "      <td>43.0</td>\n",
       "    </tr>\n",
       "    <tr>\n",
       "      <th>8406</th>\n",
       "      <td>6.9</td>\n",
       "      <td>2010-08-25 11:41:00 UTC</td>\n",
       "      <td>NaN</td>\n",
       "      <td>NaN</td>\n",
       "      <td>NaN</td>\n",
       "      <td>NaN</td>\n",
       "      <td>53.0</td>\n",
       "    </tr>\n",
       "    <tr>\n",
       "      <th>8445</th>\n",
       "      <td>5.7</td>\n",
       "      <td>2009-03-28 22:00:00 UTC</td>\n",
       "      <td>-73.982413</td>\n",
       "      <td>40.751320</td>\n",
       "      <td>-73.971292</td>\n",
       "      <td>40.748502</td>\n",
       "      <td>58.0</td>\n",
       "    </tr>\n",
       "    <tr>\n",
       "      <th>8506</th>\n",
       "      <td>11.3</td>\n",
       "      <td>2010-05-23 20:06:37 UTC</td>\n",
       "      <td>-73.985424</td>\n",
       "      <td>40.738468</td>\n",
       "      <td>-74.001698</td>\n",
       "      <td>40.707758</td>\n",
       "      <td>537.0</td>\n",
       "    </tr>\n",
       "    <tr>\n",
       "      <th>8571</th>\n",
       "      <td>12.5</td>\n",
       "      <td>2011-12-03 03:21:00 UTC</td>\n",
       "      <td>-73.993718</td>\n",
       "      <td>40.762039</td>\n",
       "      <td>-73.977527</td>\n",
       "      <td>40.734024</td>\n",
       "      <td>87.0</td>\n",
       "    </tr>\n",
       "    <tr>\n",
       "      <th>8631</th>\n",
       "      <td>20.0</td>\n",
       "      <td>2012-12-10 22:28:00 UTC</td>\n",
       "      <td>-73.955445</td>\n",
       "      <td>40.670232</td>\n",
       "      <td>-74.004795</td>\n",
       "      <td>40.731477</td>\n",
       "      <td>43.0</td>\n",
       "    </tr>\n",
       "    <tr>\n",
       "      <th>8715</th>\n",
       "      <td>4.5</td>\n",
       "      <td>2009-09-04 09:14:03 UTC</td>\n",
       "      <td>-73.977518</td>\n",
       "      <td>40.758480</td>\n",
       "      <td>-73.983252</td>\n",
       "      <td>40.749837</td>\n",
       "      <td>531.0</td>\n",
       "    </tr>\n",
       "    <tr>\n",
       "      <th>8985</th>\n",
       "      <td>8.5</td>\n",
       "      <td>2015-01-14 15:10:21 UTC</td>\n",
       "      <td>-73.955444</td>\n",
       "      <td>40.787605</td>\n",
       "      <td>-73.965561</td>\n",
       "      <td>40.798691</td>\n",
       "      <td>557.0</td>\n",
       "    </tr>\n",
       "  </tbody>\n",
       "</table>\n",
       "</div>"
      ],
      "text/plain": [
       "      fare_amount          pickup_datetime  pickup_longitude  pickup_latitude  \\\n",
       "233           8.5  2011-07-24 01:14:35 UTC               NaN              NaN   \n",
       "263           4.9  2010-07-12 09:44:33 UTC        -73.983249        40.734655   \n",
       "293           6.1  2011-01-18 23:48:00 UTC        -74.006642        40.738927   \n",
       "356           8.5  2013-06-18 10:27:05 UTC        -73.992108        40.764203   \n",
       "386           8.1  2009-08-21 19:35:05 UTC        -73.960853        40.761557   \n",
       "413           NaN  2013-09-12 11:32:00 UTC        -73.982060        40.772705   \n",
       "971          10.1  2010-11-21 01:41:00 UTC        -74.004500        40.742143   \n",
       "1007          3.7  2010-12-14 14:46:00 UTC        -73.969157        40.759000   \n",
       "1043          5.7  2012-08-22 22:08:29 UTC        -73.973573        40.760184   \n",
       "1107          4.9  2009-08-08 21:50:50 UTC        -73.988977        40.721068   \n",
       "1146          8.0  2014-03-27 08:05:01 UTC        -73.991098        40.770655   \n",
       "1200          9.7  2011-08-16 09:29:00 UTC        -73.980487        40.741610   \n",
       "1242          5.3  2011-10-16 00:22:00 UTC        -73.981095        40.738160   \n",
       "8406          6.9  2010-08-25 11:41:00 UTC               NaN              NaN   \n",
       "8445          5.7  2009-03-28 22:00:00 UTC        -73.982413        40.751320   \n",
       "8506         11.3  2010-05-23 20:06:37 UTC        -73.985424        40.738468   \n",
       "8571         12.5  2011-12-03 03:21:00 UTC        -73.993718        40.762039   \n",
       "8631         20.0  2012-12-10 22:28:00 UTC        -73.955445        40.670232   \n",
       "8715          4.5  2009-09-04 09:14:03 UTC        -73.977518        40.758480   \n",
       "8985          8.5  2015-01-14 15:10:21 UTC        -73.955444        40.787605   \n",
       "\n",
       "      dropoff_longitude  dropoff_latitude  passenger_count  \n",
       "233                 NaN               NaN            236.0  \n",
       "263          -73.991278         40.738918            456.0  \n",
       "293          -74.010828         40.717907           5334.0  \n",
       "356          -73.973000         40.762695            535.0  \n",
       "386          -73.976335         40.748361            354.0  \n",
       "413          -73.956213         40.771777             55.0  \n",
       "971          -73.994330         40.720412            554.0  \n",
       "1007         -73.968763         40.764617             53.0  \n",
       "1043         -73.953564         40.767392             35.0  \n",
       "1107         -73.982368         40.732064            345.0  \n",
       "1146         -73.976933         40.790070           5345.0  \n",
       "1200         -73.980617         40.746868            536.0  \n",
       "1242         -73.990587         40.740105             43.0  \n",
       "8406                NaN               NaN             53.0  \n",
       "8445         -73.971292         40.748502             58.0  \n",
       "8506         -74.001698         40.707758            537.0  \n",
       "8571         -73.977527         40.734024             87.0  \n",
       "8631         -74.004795         40.731477             43.0  \n",
       "8715         -73.983252         40.749837            531.0  \n",
       "8985         -73.965561         40.798691            557.0  "
      ]
     },
     "execution_count": 9,
     "metadata": {},
     "output_type": "execute_result"
    }
   ],
   "source": [
    "train.loc[train['passenger_count'] > 6]"
   ]
  },
  {
   "cell_type": "code",
   "execution_count": 10,
   "metadata": {},
   "outputs": [],
   "source": [
    "#As the fare amount cannot be negative and a cab cannot hold more than 6 passengers, We drop the irregular observations.\n",
    "train = train.drop(train[train['passenger_count']>6].index, axis=0)\n",
    "train = train.drop(train[train['fare_amount']<0].index, axis=0)"
   ]
  },
  {
   "cell_type": "code",
   "execution_count": 11,
   "metadata": {},
   "outputs": [
    {
     "data": {
      "text/plain": [
       "array([ 1.,  2.,  3., nan,  6.,  5.,  4.])"
      ]
     },
     "execution_count": 11,
     "metadata": {},
     "output_type": "execute_result"
    }
   ],
   "source": [
    "train['passenger_count'].unique()"
   ]
  },
  {
   "cell_type": "code",
   "execution_count": 12,
   "metadata": {},
   "outputs": [
    {
     "name": "stdout",
     "output_type": "stream",
     "text": [
      "pickup_longitude above 180=0\n",
      "pickup_longitude below -180=0\n",
      "pickup_latitude above 90=1\n",
      "pickup_latitude below -90=0\n",
      "dropoff_longitude above 180=0\n",
      "dropoff_longitude below -180=0\n",
      "dropoff_latitude below -90=0\n",
      "dropoff_latitude above 90=0\n"
     ]
    }
   ],
   "source": [
    "#Latitudes range from -90 to 90.Longitudes range from -180 to 180. Removing which does not satisfy these ranges\n",
    "print('pickup_longitude above 180={}'.format(sum(train['pickup_longitude']>180)))\n",
    "print('pickup_longitude below -180={}'.format(sum(train['pickup_longitude']<-180)))\n",
    "print('pickup_latitude above 90={}'.format(sum(train['pickup_latitude']>90)))\n",
    "print('pickup_latitude below -90={}'.format(sum(train['pickup_latitude']<-90)))\n",
    "print('dropoff_longitude above 180={}'.format(sum(train['dropoff_longitude']>180)))\n",
    "print('dropoff_longitude below -180={}'.format(sum(train['dropoff_longitude']<-180)))\n",
    "print('dropoff_latitude below -90={}'.format(sum(train['dropoff_latitude']<-90)))\n",
    "print('dropoff_latitude above 90={}'.format(sum(train['dropoff_latitude']>90)))"
   ]
  },
  {
   "cell_type": "code",
   "execution_count": 13,
   "metadata": {},
   "outputs": [],
   "source": [
    "#There's only one outlier which is in variable pickup_latitude.So we will remove it.\n",
    "train = train.drop(train[train['pickup_latitude']>90].index, axis=0)"
   ]
  },
  {
   "cell_type": "code",
   "execution_count": 14,
   "metadata": {},
   "outputs": [
    {
     "data": {
      "text/plain": [
       "fare_amount          float64\n",
       "pickup_datetime       object\n",
       "pickup_longitude     float64\n",
       "pickup_latitude      float64\n",
       "dropoff_longitude    float64\n",
       "dropoff_latitude     float64\n",
       "passenger_count      float64\n",
       "dtype: object"
      ]
     },
     "execution_count": 14,
     "metadata": {},
     "output_type": "execute_result"
    }
   ],
   "source": [
    "train.dtypes"
   ]
  },
  {
   "cell_type": "markdown",
   "metadata": {},
   "source": [
    "# Missing Value Analysis"
   ]
  },
  {
   "cell_type": "code",
   "execution_count": 15,
   "metadata": {},
   "outputs": [
    {
     "name": "stdout",
     "output_type": "stream",
     "text": [
      "           Variables  count  Missing_percentage\n",
      "0   pickup_longitude    313            1.951007\n",
      "1    pickup_latitude    313            1.951007\n",
      "2  dropoff_longitude    312            1.944773\n",
      "3   dropoff_latitude    310            1.932307\n",
      "4    passenger_count    113            0.704357\n",
      "5        fare_amount     25            0.155831\n",
      "6    pickup_datetime      1            0.006233\n"
     ]
    }
   ],
   "source": [
    "#calculate missing values\n",
    "\n",
    "missing_val = pd.DataFrame(train.isnull().sum())\n",
    "#print(missing_val)\n",
    "\n",
    "#Reset index\n",
    "missing_val = missing_val.reset_index()\n",
    "#print(missing_val)\n",
    "\n",
    "#Rename variable\n",
    "missing_val = missing_val.rename(columns = {'index': 'Variables', 0: 'count'})\n",
    "#print(missing_val)\n",
    "\n",
    "#Calculate percentage\n",
    "missing_val['Missing_percentage'] = (missing_val['count']/len(train)*100)\n",
    "#print(missing_val)\n",
    "\n",
    "#sort in descending order\n",
    "missing_val = missing_val.sort_values('Missing_percentage', ascending = False).reset_index(drop = True)\n",
    "print(missing_val)"
   ]
  },
  {
   "cell_type": "markdown",
   "metadata": {},
   "source": [
    "# Missing Value Imputation"
   ]
  },
  {
   "cell_type": "code",
   "execution_count": 16,
   "metadata": {},
   "outputs": [],
   "source": [
    "#As there is only one missing value in pickup_datetime, dropping the row\n",
    "train = train.drop(train[train['pickup_datetime'].isnull()].index, axis=0)"
   ]
  },
  {
   "cell_type": "code",
   "execution_count": 17,
   "metadata": {},
   "outputs": [],
   "source": [
    "#missing value imputation\n",
    "#Actual Value = -73.991875\n",
    "#Mean = -73.91184936989819\n",
    "#Median = -73.98204"
   ]
  },
  {
   "cell_type": "code",
   "execution_count": 18,
   "metadata": {},
   "outputs": [],
   "source": [
    "#save the data with in another place with different name\n",
    "\n",
    "df = train.copy()\n",
    "#train = df.copy()"
   ]
  },
  {
   "cell_type": "code",
   "execution_count": 19,
   "metadata": {},
   "outputs": [],
   "source": [
    "#Create missing value, a small test to identify which method is good for imputation\n",
    "\n",
    "#train[\"pickup_longitude\"].loc[25]"
   ]
  },
  {
   "cell_type": "code",
   "execution_count": 20,
   "metadata": {},
   "outputs": [],
   "source": [
    "#train['pickup_longitude'].loc[25] = np.nan"
   ]
  },
  {
   "cell_type": "code",
   "execution_count": 21,
   "metadata": {},
   "outputs": [],
   "source": [
    "#train['pickup_longitude'].loc[25]"
   ]
  },
  {
   "cell_type": "code",
   "execution_count": 22,
   "metadata": {},
   "outputs": [],
   "source": [
    "#Mean Imputation\n",
    "#train['pickup_longitude'] = train['pickup_longitude'].fillna(train['pickup_longitude'].mean())\n",
    "#train['pickup_longitude'].loc[25]"
   ]
  },
  {
   "cell_type": "code",
   "execution_count": 23,
   "metadata": {},
   "outputs": [],
   "source": [
    "#Median Imputation\n",
    "#train['pickup_longitude'] = train['pickup_longitude'].fillna(train['pickup_longitude'].median())\n",
    "#train['pickup_longitude'].loc[25]"
   ]
  },
  {
   "cell_type": "code",
   "execution_count": 24,
   "metadata": {},
   "outputs": [],
   "source": [
    "#As it is found Median is very close to Actual Value, we will proceed with imputation via median\n",
    "train['pickup_longitude'] = train['pickup_longitude'].fillna(train['pickup_longitude'].median())\n",
    "train['pickup_latitude'] = train['pickup_latitude'].fillna(train['pickup_latitude'].median())\n",
    "train['dropoff_longitude'] = train['dropoff_longitude'].fillna(train['dropoff_longitude'].median())\n",
    "train['dropoff_latitude'] = train['dropoff_latitude'].fillna(train['dropoff_latitude'].median())\n",
    "\n",
    "#And for category variables imputation is done with mode\n",
    "train['passenger_count'] = train['passenger_count'].fillna(int(train['passenger_count'].mode()))"
   ]
  },
  {
   "cell_type": "code",
   "execution_count": 25,
   "metadata": {},
   "outputs": [
    {
     "data": {
      "text/plain": [
       "fare_amount          25\n",
       "pickup_datetime       0\n",
       "pickup_longitude      0\n",
       "pickup_latitude       0\n",
       "dropoff_longitude     0\n",
       "dropoff_latitude      0\n",
       "passenger_count       0\n",
       "dtype: int64"
      ]
     },
     "execution_count": 25,
     "metadata": {},
     "output_type": "execute_result"
    }
   ],
   "source": [
    "train.isnull().sum()"
   ]
  },
  {
   "cell_type": "code",
   "execution_count": 26,
   "metadata": {},
   "outputs": [],
   "source": [
    "#Imputing the NAs in target variables may hamper the model, so it is preferred to remove NA rows of the data\n",
    "train=train.dropna()"
   ]
  },
  {
   "cell_type": "code",
   "execution_count": 27,
   "metadata": {},
   "outputs": [],
   "source": [
    "#convert the data type of categorical variable\n",
    "train['passenger_count']=train['passenger_count'].astype('int').round().astype('object').astype('category')"
   ]
  },
  {
   "cell_type": "code",
   "execution_count": 28,
   "metadata": {},
   "outputs": [
    {
     "data": {
      "text/plain": [
       "fare_amount           float64\n",
       "pickup_datetime        object\n",
       "pickup_longitude      float64\n",
       "pickup_latitude       float64\n",
       "dropoff_longitude     float64\n",
       "dropoff_latitude      float64\n",
       "passenger_count      category\n",
       "dtype: object"
      ]
     },
     "execution_count": 28,
     "metadata": {},
     "output_type": "execute_result"
    }
   ],
   "source": [
    "train.dtypes"
   ]
  },
  {
   "cell_type": "code",
   "execution_count": 29,
   "metadata": {},
   "outputs": [
    {
     "data": {
      "text/plain": [
       "(16017, 7)"
      ]
     },
     "execution_count": 29,
     "metadata": {},
     "output_type": "execute_result"
    }
   ],
   "source": [
    "train.shape"
   ]
  },
  {
   "cell_type": "markdown",
   "metadata": {},
   "source": [
    "# Outlier Analysis"
   ]
  },
  {
   "cell_type": "code",
   "execution_count": 30,
   "metadata": {},
   "outputs": [
    {
     "data": {
      "text/html": [
       "<div>\n",
       "<style scoped>\n",
       "    .dataframe tbody tr th:only-of-type {\n",
       "        vertical-align: middle;\n",
       "    }\n",
       "\n",
       "    .dataframe tbody tr th {\n",
       "        vertical-align: top;\n",
       "    }\n",
       "\n",
       "    .dataframe thead th {\n",
       "        text-align: right;\n",
       "    }\n",
       "</style>\n",
       "<table border=\"1\" class=\"dataframe\">\n",
       "  <thead>\n",
       "    <tr style=\"text-align: right;\">\n",
       "      <th></th>\n",
       "      <th>fare_amount</th>\n",
       "      <th>pickup_longitude</th>\n",
       "      <th>pickup_latitude</th>\n",
       "      <th>dropoff_longitude</th>\n",
       "      <th>dropoff_latitude</th>\n",
       "    </tr>\n",
       "  </thead>\n",
       "  <tbody>\n",
       "    <tr>\n",
       "      <th>count</th>\n",
       "      <td>16017.000000</td>\n",
       "      <td>16017.000000</td>\n",
       "      <td>16017.000000</td>\n",
       "      <td>16017.000000</td>\n",
       "      <td>16017.000000</td>\n",
       "    </tr>\n",
       "    <tr>\n",
       "      <th>mean</th>\n",
       "      <td>15.028495</td>\n",
       "      <td>-73.913036</td>\n",
       "      <td>40.691100</td>\n",
       "      <td>-73.907946</td>\n",
       "      <td>40.689112</td>\n",
       "    </tr>\n",
       "    <tr>\n",
       "      <th>std</th>\n",
       "      <td>430.796594</td>\n",
       "      <td>2.629353</td>\n",
       "      <td>2.584115</td>\n",
       "      <td>2.680561</td>\n",
       "      <td>2.602998</td>\n",
       "    </tr>\n",
       "    <tr>\n",
       "      <th>min</th>\n",
       "      <td>0.010000</td>\n",
       "      <td>-74.438233</td>\n",
       "      <td>-74.006893</td>\n",
       "      <td>-74.429332</td>\n",
       "      <td>-74.006377</td>\n",
       "    </tr>\n",
       "    <tr>\n",
       "      <th>25%</th>\n",
       "      <td>6.000000</td>\n",
       "      <td>-73.992157</td>\n",
       "      <td>40.737014</td>\n",
       "      <td>-73.991182</td>\n",
       "      <td>40.736842</td>\n",
       "    </tr>\n",
       "    <tr>\n",
       "      <th>50%</th>\n",
       "      <td>8.500000</td>\n",
       "      <td>-73.982040</td>\n",
       "      <td>40.753300</td>\n",
       "      <td>-73.980567</td>\n",
       "      <td>40.754238</td>\n",
       "    </tr>\n",
       "    <tr>\n",
       "      <th>75%</th>\n",
       "      <td>12.500000</td>\n",
       "      <td>-73.968438</td>\n",
       "      <td>40.767380</td>\n",
       "      <td>-73.965875</td>\n",
       "      <td>40.768026</td>\n",
       "    </tr>\n",
       "    <tr>\n",
       "      <th>max</th>\n",
       "      <td>54343.000000</td>\n",
       "      <td>40.766125</td>\n",
       "      <td>41.366138</td>\n",
       "      <td>40.802437</td>\n",
       "      <td>41.366138</td>\n",
       "    </tr>\n",
       "  </tbody>\n",
       "</table>\n",
       "</div>"
      ],
      "text/plain": [
       "        fare_amount  pickup_longitude  pickup_latitude  dropoff_longitude  \\\n",
       "count  16017.000000      16017.000000     16017.000000       16017.000000   \n",
       "mean      15.028495        -73.913036        40.691100         -73.907946   \n",
       "std      430.796594          2.629353         2.584115           2.680561   \n",
       "min        0.010000        -74.438233       -74.006893         -74.429332   \n",
       "25%        6.000000        -73.992157        40.737014         -73.991182   \n",
       "50%        8.500000        -73.982040        40.753300         -73.980567   \n",
       "75%       12.500000        -73.968438        40.767380         -73.965875   \n",
       "max    54343.000000         40.766125        41.366138          40.802437   \n",
       "\n",
       "       dropoff_latitude  \n",
       "count      16017.000000  \n",
       "mean          40.689112  \n",
       "std            2.602998  \n",
       "min          -74.006377  \n",
       "25%           40.736842  \n",
       "50%           40.754238  \n",
       "75%           40.768026  \n",
       "max           41.366138  "
      ]
     },
     "execution_count": 30,
     "metadata": {},
     "output_type": "execute_result"
    }
   ],
   "source": [
    "train.describe()"
   ]
  },
  {
   "cell_type": "code",
   "execution_count": 31,
   "metadata": {},
   "outputs": [
    {
     "data": {
      "image/png": "[encoded data removed]",
      "text/plain": [
       "<Figure size 1440x360 with 1 Axes>"
      ]
     },
     "metadata": {
      "needs_background": "light"
     },
     "output_type": "display_data"
    }
   ],
   "source": [
    "#Univariate Boxplot for target variable\n",
    "plt.figure(figsize=(20,5)) \n",
    "plt.xlim(0,100)\n",
    "sns.boxplot(x=train['fare_amount'],data=train,orient='h')\n",
    "plt.title('Boxplot of fare_amount')\n",
    "#plt.savefig('bp of fare_amount.png')\n",
    "plt.show()"
   ]
  },
  {
   "cell_type": "code",
   "execution_count": 32,
   "metadata": {},
   "outputs": [
    {
     "data": {
      "image/png": "[encoded data removed]",
      "text/plain": [
       "<Figure size 1440x720 with 1 Axes>"
      ]
     },
     "metadata": {
      "needs_background": "light"
     },
     "output_type": "display_data"
    }
   ],
   "source": [
    "#Bivariate Boxplots: Boxplot for Numerical Variable Vs Categorical Variable\n",
    "plt.figure(figsize=(20,10))\n",
    "plt.xlim(0,100)\n",
    "_ = sns.boxplot(x=train['fare_amount'],y=train['passenger_count'],data=train,orient='h')\n",
    "plt.title('Boxplot of fare_amount w.r.t passenger_count')\n",
    "#plt.savefig('Boxplot of fare_amount w.r.t passenger_count.png')\n",
    "plt.show()"
   ]
  },
  {
   "cell_type": "code",
   "execution_count": 33,
   "metadata": {},
   "outputs": [],
   "source": [
    "#As we see from the above boxplots, there are outliers in the train dataset.\n",
    "#Outliers Treatment\n",
    "def outlier_treatment(col):\n",
    "    ''' calculating outlier indices and replacing them with NA  '''\n",
    "    #Extract quartiles\n",
    "    q75, q25 = np.percentile(train[col], [75 ,25])\n",
    "    print(q75,q25)\n",
    "    #Calculate IQR\n",
    "    iqr = q75 - q25\n",
    "    #Calculate inner and outer fence\n",
    "    minimum = q25 - (iqr*1.5)\n",
    "    maximum = q75 + (iqr*1.5)\n",
    "    print(minimum,maximum)\n",
    "    #Replace with NA\n",
    "    train.loc[train[col] < minimum,col] = np.nan\n",
    "    train.loc[train[col] > maximum,col] = np.nan"
   ]
  },
  {
   "cell_type": "code",
   "execution_count": 34,
   "metadata": {},
   "outputs": [],
   "source": [
    "#outlier_treatment('fare_amount')\n",
    "#outlier_treatment('pickup_longitude')\n",
    "#outlier_treatment('pickup_latitude')\n",
    "#outlier_treatment('dropoff_longitude')\n",
    "#outlier_treatment('dropoff_latitude')\n",
    "#Outliers for pickup_longitude, pickup_latidude, dropoff_longitude, dropoff_latidude will be solved after feature engineering."
   ]
  },
  {
   "cell_type": "code",
   "execution_count": 35,
   "metadata": {},
   "outputs": [
    {
     "data": {
      "text/html": [
       "<div>\n",
       "<style scoped>\n",
       "    .dataframe tbody tr th:only-of-type {\n",
       "        vertical-align: middle;\n",
       "    }\n",
       "\n",
       "    .dataframe tbody tr th {\n",
       "        vertical-align: top;\n",
       "    }\n",
       "\n",
       "    .dataframe thead th {\n",
       "        text-align: right;\n",
       "    }\n",
       "</style>\n",
       "<table border=\"1\" class=\"dataframe\">\n",
       "  <thead>\n",
       "    <tr style=\"text-align: right;\">\n",
       "      <th></th>\n",
       "      <th>fare_amount</th>\n",
       "      <th>pickup_datetime</th>\n",
       "      <th>pickup_longitude</th>\n",
       "      <th>pickup_latitude</th>\n",
       "      <th>dropoff_longitude</th>\n",
       "      <th>dropoff_latitude</th>\n",
       "      <th>passenger_count</th>\n",
       "    </tr>\n",
       "  </thead>\n",
       "  <tbody>\n",
       "    <tr>\n",
       "      <th>1015</th>\n",
       "      <td>54343.0</td>\n",
       "      <td>2015-02-27 17:03:50 UTC</td>\n",
       "      <td>-74.003319</td>\n",
       "      <td>40.727455</td>\n",
       "      <td>-73.964470</td>\n",
       "      <td>40.764378</td>\n",
       "      <td>1</td>\n",
       "    </tr>\n",
       "    <tr>\n",
       "      <th>1072</th>\n",
       "      <td>4343.0</td>\n",
       "      <td>2012-01-15 20:42:04 UTC</td>\n",
       "      <td>-73.976309</td>\n",
       "      <td>40.751634</td>\n",
       "      <td>-74.014854</td>\n",
       "      <td>40.709044</td>\n",
       "      <td>1</td>\n",
       "    </tr>\n",
       "  </tbody>\n",
       "</table>\n",
       "</div>"
      ],
      "text/plain": [
       "      fare_amount          pickup_datetime  pickup_longitude  pickup_latitude  \\\n",
       "1015      54343.0  2015-02-27 17:03:50 UTC        -74.003319        40.727455   \n",
       "1072       4343.0  2012-01-15 20:42:04 UTC        -73.976309        40.751634   \n",
       "\n",
       "      dropoff_longitude  dropoff_latitude passenger_count  \n",
       "1015         -73.964470         40.764378               1  \n",
       "1072         -74.014854         40.709044               1  "
      ]
     },
     "execution_count": 35,
     "metadata": {},
     "output_type": "execute_result"
    }
   ],
   "source": [
    "train.loc[train['fare_amount'] > 500]"
   ]
  },
  {
   "cell_type": "code",
   "execution_count": 36,
   "metadata": {},
   "outputs": [],
   "source": [
    "train = train.drop(train[train['fare_amount']>1000].index, axis=0)"
   ]
  },
  {
   "cell_type": "code",
   "execution_count": 37,
   "metadata": {},
   "outputs": [
    {
     "data": {
      "text/html": [
       "<div>\n",
       "<style scoped>\n",
       "    .dataframe tbody tr th:only-of-type {\n",
       "        vertical-align: middle;\n",
       "    }\n",
       "\n",
       "    .dataframe tbody tr th {\n",
       "        vertical-align: top;\n",
       "    }\n",
       "\n",
       "    .dataframe thead th {\n",
       "        text-align: right;\n",
       "    }\n",
       "</style>\n",
       "<table border=\"1\" class=\"dataframe\">\n",
       "  <thead>\n",
       "    <tr style=\"text-align: right;\">\n",
       "      <th></th>\n",
       "      <th>0</th>\n",
       "    </tr>\n",
       "  </thead>\n",
       "  <tbody>\n",
       "    <tr>\n",
       "      <th>fare_amount</th>\n",
       "      <td>0</td>\n",
       "    </tr>\n",
       "    <tr>\n",
       "      <th>pickup_datetime</th>\n",
       "      <td>0</td>\n",
       "    </tr>\n",
       "    <tr>\n",
       "      <th>pickup_longitude</th>\n",
       "      <td>0</td>\n",
       "    </tr>\n",
       "    <tr>\n",
       "      <th>pickup_latitude</th>\n",
       "      <td>0</td>\n",
       "    </tr>\n",
       "    <tr>\n",
       "      <th>dropoff_longitude</th>\n",
       "      <td>0</td>\n",
       "    </tr>\n",
       "    <tr>\n",
       "      <th>dropoff_latitude</th>\n",
       "      <td>0</td>\n",
       "    </tr>\n",
       "    <tr>\n",
       "      <th>passenger_count</th>\n",
       "      <td>0</td>\n",
       "    </tr>\n",
       "  </tbody>\n",
       "</table>\n",
       "</div>"
      ],
      "text/plain": [
       "                   0\n",
       "fare_amount        0\n",
       "pickup_datetime    0\n",
       "pickup_longitude   0\n",
       "pickup_latitude    0\n",
       "dropoff_longitude  0\n",
       "dropoff_latitude   0\n",
       "passenger_count    0"
      ]
     },
     "execution_count": 37,
     "metadata": {},
     "output_type": "execute_result"
    }
   ],
   "source": [
    "pd.DataFrame(train.isnull().sum())"
   ]
  },
  {
   "cell_type": "code",
   "execution_count": 38,
   "metadata": {},
   "outputs": [],
   "source": [
    "#As it is found Median is very close to Actual Value, we will proceed with imputation via median\n",
    "#train['pickup_longitude'] = train['pickup_longitude'].fillna(train['pickup_longitude'].median())\n",
    "#train['pickup_latitude'] = train['pickup_latitude'].fillna(train['pickup_latitude'].median())\n",
    "#train['dropoff_longitude'] = train['dropoff_longitude'].fillna(train['dropoff_longitude'].median())\n",
    "#train['dropoff_latitude'] = train['dropoff_latitude'].fillna(train['dropoff_latitude'].median())"
   ]
  },
  {
   "cell_type": "markdown",
   "metadata": {},
   "source": [
    "# Feature Engineering"
   ]
  },
  {
   "cell_type": "code",
   "execution_count": 39,
   "metadata": {},
   "outputs": [],
   "source": [
    "# Here pickup_datetime variable is in object so we need to change its data type to datetime\n",
    "train['pickup_datetime'] =  pd.to_datetime(train['pickup_datetime'], format='%Y-%m-%d %H:%M:%S UTC')"
   ]
  },
  {
   "cell_type": "code",
   "execution_count": 40,
   "metadata": {},
   "outputs": [],
   "source": [
    "#We will separate pickup_datetime into Year, month, day, day_of_week, hour, minutes\n",
    "train['year'] = train['pickup_datetime'].dt.year\n",
    "train['month'] = train['pickup_datetime'].dt.month\n",
    "train['dayofweek'] = train['pickup_datetime'].dt.dayofweek\n",
    "train['hour'] = train['pickup_datetime'].dt.hour"
   ]
  },
  {
   "cell_type": "code",
   "execution_count": 41,
   "metadata": {},
   "outputs": [],
   "source": [
    "#eliminate all data with same pickup and drop points\n",
    "train=train[np.logical_and(train['pickup_longitude'] != train['dropoff_longitude'],\n",
    "                                     train['pickup_latitude'] != train['dropoff_latitude'])]"
   ]
  },
  {
   "cell_type": "code",
   "execution_count": 42,
   "metadata": {},
   "outputs": [],
   "source": [
    "#Creating new variable 'dist' using haversine function\n",
    "\n",
    "def haversine(lat1, lon1, lat2, lon2, to_radians=True, earth_radius=6371): #Earth's radius in KM\n",
    "   \n",
    "    if to_radians:\n",
    "        lat1, lon1, lat2, lon2 = np.radians([lat1, lon1, lat2, lon2])\n",
    "\n",
    "    a = np.sin((lat2-lat1)/2.0)**2 + \\\n",
    "        np.cos(lat1) * np.cos(lat2) * np.sin((lon2-lon1)/2.0)**2\n",
    "\n",
    "    return earth_radius * 2 * np.arcsin(np.sqrt(a))"
   ]
  },
  {
   "cell_type": "code",
   "execution_count": 43,
   "metadata": {},
   "outputs": [],
   "source": [
    "train['dist'] = haversine(train['pickup_latitude'], train['pickup_longitude'],\n",
    "                train['dropoff_latitude'], train['dropoff_longitude'])"
   ]
  },
  {
   "cell_type": "code",
   "execution_count": 44,
   "metadata": {
    "scrolled": true
   },
   "outputs": [
    {
     "data": {
      "image/png": "[encoded data removed]",
      "text/plain": [
       "<Figure size 1440x360 with 1 Axes>"
      ]
     },
     "metadata": {
      "needs_background": "light"
     },
     "output_type": "display_data"
    }
   ],
   "source": [
    "#Univariate Boxplot for dist variable\n",
    "plt.figure(figsize=(20,5)) \n",
    "plt.xlim(0,100)\n",
    "sns.boxplot(x=train['dist'],data=train,orient='h')\n",
    "plt.title('Boxplot of distance')\n",
    "#plt.savefig('bp of fare_amount.png')\n",
    "plt.show()"
   ]
  },
  {
   "cell_type": "code",
   "execution_count": 45,
   "metadata": {},
   "outputs": [],
   "source": [
    "df2 = train.copy()"
   ]
  },
  {
   "cell_type": "code",
   "execution_count": 46,
   "metadata": {},
   "outputs": [
    {
     "name": "stdout",
     "output_type": "stream",
     "text": [
      "3.8752198997141445 1.2354882167337857\n",
      "-2.7241093077367524 7.834817424184683\n"
     ]
    }
   ],
   "source": [
    "outlier_treatment('dist')"
   ]
  },
  {
   "cell_type": "code",
   "execution_count": 47,
   "metadata": {},
   "outputs": [
    {
     "data": {
      "text/plain": [
       "fare_amount             0\n",
       "pickup_datetime         0\n",
       "pickup_longitude        0\n",
       "pickup_latitude         0\n",
       "dropoff_longitude       0\n",
       "dropoff_latitude        0\n",
       "passenger_count         0\n",
       "year                    0\n",
       "month                   0\n",
       "dayofweek               0\n",
       "hour                    0\n",
       "dist                 1361\n",
       "dtype: int64"
      ]
     },
     "execution_count": 47,
     "metadata": {},
     "output_type": "execute_result"
    }
   ],
   "source": [
    "train.isnull().sum()"
   ]
  },
  {
   "cell_type": "code",
   "execution_count": 48,
   "metadata": {},
   "outputs": [],
   "source": [
    "#train = train.dropna()"
   ]
  },
  {
   "cell_type": "code",
   "execution_count": 49,
   "metadata": {},
   "outputs": [],
   "source": [
    "# As median was selected to impute missing values (Outliers in this case). We will impute 'dist' with median.\n",
    "train['dist'] = train['dist'].fillna(train['dist'].median())"
   ]
  },
  {
   "cell_type": "markdown",
   "metadata": {},
   "source": [
    "# Feature Selection"
   ]
  },
  {
   "cell_type": "code",
   "execution_count": 50,
   "metadata": {},
   "outputs": [],
   "source": [
    "#Dropping few variables\n",
    "#df = train.copy()\n",
    "df = pd.DataFrame(train)\n",
    "#df.drop(['pickup_longitude','pickup_latitude', 'dropoff_longitude', 'dropoff_latitude', 'pickup_datetime'], axis = 1)"
   ]
  },
  {
   "cell_type": "code",
   "execution_count": 51,
   "metadata": {},
   "outputs": [],
   "source": [
    "#Dropping unwanted variables.\n",
    "train = train.drop(['pickup_latitude','pickup_longitude','dropoff_latitude','dropoff_longitude','pickup_datetime'], axis = 1)"
   ]
  },
  {
   "cell_type": "code",
   "execution_count": 52,
   "metadata": {},
   "outputs": [
    {
     "data": {
      "image/png": "[encoded data removed]",
      "text/plain": [
       "<Figure size 1440x720 with 1 Axes>"
      ]
     },
     "metadata": {
      "needs_background": "light"
     },
     "output_type": "display_data"
    },
    {
     "data": {
      "image/png": "[encoded data removed]",
      "text/plain": [
       "<Figure size 1440x720 with 1 Axes>"
      ]
     },
     "metadata": {
      "needs_background": "light"
     },
     "output_type": "display_data"
    },
    {
     "data": {
      "image/png": "[encoded data removed]",
      "text/plain": [
       "<Figure size 1440x720 with 1 Axes>"
      ]
     },
     "metadata": {
      "needs_background": "light"
     },
     "output_type": "display_data"
    },
    {
     "data": {
      "image/png": "[encoded data removed]",
      "text/plain": [
       "<Figure size 1440x720 with 1 Axes>"
      ]
     },
     "metadata": {
      "needs_background": "light"
     },
     "output_type": "display_data"
    }
   ],
   "source": [
    "plt.figure(figsize=(20,10))\n",
    "sns.countplot(train['year'])\n",
    "#plt.savefig('year.png')\n",
    "\n",
    "plt.figure(figsize=(20,10))\n",
    "sns.countplot(train['month'])\n",
    "#plt.savefig('month.png')\n",
    "\n",
    "plt.figure(figsize=(20,10))\n",
    "sns.countplot(train['dayofweek'])\n",
    "#plt.savefig('day_of_week.png')\n",
    "\n",
    "plt.figure(figsize=(20,10))\n",
    "sns.countplot(train['hour'])\n",
    "#plt.savefig('hour.png')"
   ]
  },
  {
   "cell_type": "code",
   "execution_count": 53,
   "metadata": {},
   "outputs": [
    {
     "data": {
      "text/plain": [
       "(15854, 7)"
      ]
     },
     "execution_count": 53,
     "metadata": {},
     "output_type": "execute_result"
    }
   ],
   "source": [
    "train.shape"
   ]
  },
  {
   "cell_type": "code",
   "execution_count": 54,
   "metadata": {},
   "outputs": [
    {
     "data": {
      "text/html": [
       "<div>\n",
       "<style scoped>\n",
       "    .dataframe tbody tr th:only-of-type {\n",
       "        vertical-align: middle;\n",
       "    }\n",
       "\n",
       "    .dataframe tbody tr th {\n",
       "        vertical-align: top;\n",
       "    }\n",
       "\n",
       "    .dataframe thead th {\n",
       "        text-align: right;\n",
       "    }\n",
       "</style>\n",
       "<table border=\"1\" class=\"dataframe\">\n",
       "  <thead>\n",
       "    <tr style=\"text-align: right;\">\n",
       "      <th></th>\n",
       "      <th>fare_amount</th>\n",
       "      <th>passenger_count</th>\n",
       "      <th>year</th>\n",
       "      <th>month</th>\n",
       "      <th>dayofweek</th>\n",
       "      <th>hour</th>\n",
       "      <th>dist</th>\n",
       "    </tr>\n",
       "  </thead>\n",
       "  <tbody>\n",
       "    <tr>\n",
       "      <th>0</th>\n",
       "      <td>4.5</td>\n",
       "      <td>1</td>\n",
       "      <td>2009</td>\n",
       "      <td>6</td>\n",
       "      <td>0</td>\n",
       "      <td>17</td>\n",
       "      <td>1.030764</td>\n",
       "    </tr>\n",
       "    <tr>\n",
       "      <th>1</th>\n",
       "      <td>16.9</td>\n",
       "      <td>1</td>\n",
       "      <td>2010</td>\n",
       "      <td>1</td>\n",
       "      <td>1</td>\n",
       "      <td>16</td>\n",
       "      <td>1.954668</td>\n",
       "    </tr>\n",
       "    <tr>\n",
       "      <th>2</th>\n",
       "      <td>5.7</td>\n",
       "      <td>2</td>\n",
       "      <td>2011</td>\n",
       "      <td>8</td>\n",
       "      <td>3</td>\n",
       "      <td>0</td>\n",
       "      <td>1.389525</td>\n",
       "    </tr>\n",
       "    <tr>\n",
       "      <th>3</th>\n",
       "      <td>7.7</td>\n",
       "      <td>1</td>\n",
       "      <td>2012</td>\n",
       "      <td>4</td>\n",
       "      <td>5</td>\n",
       "      <td>4</td>\n",
       "      <td>2.799270</td>\n",
       "    </tr>\n",
       "    <tr>\n",
       "      <th>4</th>\n",
       "      <td>5.3</td>\n",
       "      <td>1</td>\n",
       "      <td>2010</td>\n",
       "      <td>3</td>\n",
       "      <td>1</td>\n",
       "      <td>7</td>\n",
       "      <td>1.999157</td>\n",
       "    </tr>\n",
       "  </tbody>\n",
       "</table>\n",
       "</div>"
      ],
      "text/plain": [
       "   fare_amount passenger_count  year  month  dayofweek  hour      dist\n",
       "0          4.5               1  2009      6          0    17  1.030764\n",
       "1         16.9               1  2010      1          1    16  1.954668\n",
       "2          5.7               2  2011      8          3     0  1.389525\n",
       "3          7.7               1  2012      4          5     4  2.799270\n",
       "4          5.3               1  2010      3          1     7  1.999157"
      ]
     },
     "execution_count": 54,
     "metadata": {},
     "output_type": "execute_result"
    }
   ],
   "source": [
    "train.head()"
   ]
  },
  {
   "cell_type": "code",
   "execution_count": null,
   "metadata": {},
   "outputs": [],
   "source": []
  },
  {
   "cell_type": "code",
   "execution_count": 55,
   "metadata": {},
   "outputs": [],
   "source": [
    "#Correlation Analysis\n",
    "numeric=['fare_amount', 'dist']\n",
    "cat=['passenger_count', 'year', 'month', 'hour', 'dayofweek']\n",
    "train_corr = train.loc[:,numeric]"
   ]
  },
  {
   "cell_type": "code",
   "execution_count": 56,
   "metadata": {},
   "outputs": [
    {
     "data": {
      "text/html": [
       "<div>\n",
       "<style scoped>\n",
       "    .dataframe tbody tr th:only-of-type {\n",
       "        vertical-align: middle;\n",
       "    }\n",
       "\n",
       "    .dataframe tbody tr th {\n",
       "        vertical-align: top;\n",
       "    }\n",
       "\n",
       "    .dataframe thead th {\n",
       "        text-align: right;\n",
       "    }\n",
       "</style>\n",
       "<table border=\"1\" class=\"dataframe\">\n",
       "  <thead>\n",
       "    <tr style=\"text-align: right;\">\n",
       "      <th></th>\n",
       "      <th>fare_amount</th>\n",
       "      <th>passenger_count</th>\n",
       "      <th>year</th>\n",
       "      <th>month</th>\n",
       "      <th>dayofweek</th>\n",
       "      <th>hour</th>\n",
       "      <th>dist</th>\n",
       "    </tr>\n",
       "  </thead>\n",
       "  <tbody>\n",
       "    <tr>\n",
       "      <th>0</th>\n",
       "      <td>4.5</td>\n",
       "      <td>1</td>\n",
       "      <td>2009</td>\n",
       "      <td>6</td>\n",
       "      <td>0</td>\n",
       "      <td>17</td>\n",
       "      <td>1.030764</td>\n",
       "    </tr>\n",
       "    <tr>\n",
       "      <th>1</th>\n",
       "      <td>16.9</td>\n",
       "      <td>1</td>\n",
       "      <td>2010</td>\n",
       "      <td>1</td>\n",
       "      <td>1</td>\n",
       "      <td>16</td>\n",
       "      <td>1.954668</td>\n",
       "    </tr>\n",
       "    <tr>\n",
       "      <th>2</th>\n",
       "      <td>5.7</td>\n",
       "      <td>2</td>\n",
       "      <td>2011</td>\n",
       "      <td>8</td>\n",
       "      <td>3</td>\n",
       "      <td>0</td>\n",
       "      <td>1.389525</td>\n",
       "    </tr>\n",
       "    <tr>\n",
       "      <th>3</th>\n",
       "      <td>7.7</td>\n",
       "      <td>1</td>\n",
       "      <td>2012</td>\n",
       "      <td>4</td>\n",
       "      <td>5</td>\n",
       "      <td>4</td>\n",
       "      <td>2.799270</td>\n",
       "    </tr>\n",
       "    <tr>\n",
       "      <th>4</th>\n",
       "      <td>5.3</td>\n",
       "      <td>1</td>\n",
       "      <td>2010</td>\n",
       "      <td>3</td>\n",
       "      <td>1</td>\n",
       "      <td>7</td>\n",
       "      <td>1.999157</td>\n",
       "    </tr>\n",
       "  </tbody>\n",
       "</table>\n",
       "</div>"
      ],
      "text/plain": [
       "   fare_amount passenger_count  year  month  dayofweek  hour      dist\n",
       "0          4.5               1  2009      6          0    17  1.030764\n",
       "1         16.9               1  2010      1          1    16  1.954668\n",
       "2          5.7               2  2011      8          3     0  1.389525\n",
       "3          7.7               1  2012      4          5     4  2.799270\n",
       "4          5.3               1  2010      3          1     7  1.999157"
      ]
     },
     "execution_count": 56,
     "metadata": {},
     "output_type": "execute_result"
    }
   ],
   "source": [
    "train.head()"
   ]
  },
  {
   "cell_type": "code",
   "execution_count": 57,
   "metadata": {},
   "outputs": [
    {
     "name": "stdout",
     "output_type": "stream",
     "text": [
      "             fare_amount      dist\n",
      "fare_amount     1.000000  0.248835\n",
      "dist            0.248835  1.000000\n"
     ]
    },
    {
     "data": {
      "text/plain": [
       "<matplotlib.axes._subplots.AxesSubplot at 0x1dd00877cc8>"
      ]
     },
     "execution_count": 57,
     "metadata": {},
     "output_type": "execute_result"
    },
    {
     "data": {
      "image/png": "[encoded data removed]",
      "text/plain": [
       "<Figure size 504x360 with 2 Axes>"
      ]
     },
     "metadata": {
      "needs_background": "light"
     },
     "output_type": "display_data"
    }
   ],
   "source": [
    "#Set the width and hieght of the plot\n",
    "f, ax = plt.subplots(figsize=(7, 5))\n",
    "\n",
    "#Generate correlation matrix\n",
    "corr = train_corr.corr()\n",
    "print(corr)\n",
    "\n",
    "#Plotted using seaborn library\n",
    "sns.heatmap(train[numeric].corr(), square=True, cmap='RdYlGn',linewidths=0.5,linecolor='w',annot=True)"
   ]
  },
  {
   "cell_type": "markdown",
   "metadata": {},
   "source": [
    "As we can see from above correlation plot fare_amount and dist is correlated to each other."
   ]
  },
  {
   "cell_type": "markdown",
   "metadata": {},
   "source": [
    "#Chi-square test of Independence for Categorical Variables/Features"
   ]
  },
  {
   "cell_type": "markdown",
   "metadata": {},
   "source": [
    "Hypothesis testing :\n",
    "\n",
    "     Null Hypothesis: 2 variables are independent.\n",
    "     Alternate Hypothesis: 2 variables are not independent.\n",
    "     \n",
    "-> If p-value is less than 0.05 then we reject the null hypothesis saying that 2 variables are dependent.\n",
    "-> And if p-value is greater than 0.05 then we accept the null hypothesis saying that 2 variables are independent.\n",
    "-> There should be no dependencies between Independent variables.\n",
    "-> So we will remove that variable whose p-value with other variable is low than 0.05.\n",
    "-> And we will keep that variable whose p-value with other variable is high than 0.05"
   ]
  },
  {
   "cell_type": "code",
   "execution_count": 58,
   "metadata": {},
   "outputs": [
    {
     "name": "stdout",
     "output_type": "stream",
     "text": [
      "passenger_count and year are dependent on each other with 5.4539739238701985e-31\n",
      "passenger_count and month are independent on each other with 0.11697182361640901\n",
      "passenger_count and hour are dependent on each other with 1.2019669644330902e-12\n",
      "passenger_count and dayofweek are dependent on each other with 5.853954037949979e-16\n",
      "year and passenger_count are dependent on each other with 5.4539739238702755e-31\n",
      "year and month are dependent on each other with 1.2741275343224633e-185\n",
      "year and hour are independent on each other with 0.14366550222905283\n",
      "year and dayofweek are independent on each other with 0.19098248153827446\n",
      "month and passenger_count are independent on each other with 0.11697182361640901\n",
      "month and year are dependent on each other with 1.2741275343224633e-185\n",
      "month and hour are independent on each other with 0.6181006743575543\n",
      "month and dayofweek are independent on each other with 0.1888768522062891\n",
      "hour and passenger_count are dependent on each other with 1.2019669644330914e-12\n",
      "hour and year are independent on each other with 0.14366550222905283\n",
      "hour and month are independent on each other with 0.6181006743575543\n",
      "hour and dayofweek are dependent on each other with 7.013519211129019e-142\n",
      "dayofweek and passenger_count are dependent on each other with 5.853954037950059e-16\n",
      "dayofweek and year are independent on each other with 0.19098248153827446\n",
      "dayofweek and month are independent on each other with 0.18887685220628878\n",
      "dayofweek and hour are dependent on each other with 7.013519211129019e-142\n"
     ]
    }
   ],
   "source": [
    "#loop for chi square values\n",
    "for i in cat:\n",
    "    for j in cat:\n",
    "        if(i != j):\n",
    "            chi2, p, dof, ex = chi2_contingency(pd.crosstab(train[i], train[j]))\n",
    "            if(p < 0.05):\n",
    "                print(i,\"and\",j,\"are dependent on each other with\",p)\n",
    "            else:\n",
    "                print(i,\"and\",j,\"are independent on each other with\",p)"
   ]
  },
  {
   "cell_type": "code",
   "execution_count": 59,
   "metadata": {},
   "outputs": [
    {
     "data": {
      "text/html": [
       "<div>\n",
       "<style scoped>\n",
       "    .dataframe tbody tr th:only-of-type {\n",
       "        vertical-align: middle;\n",
       "    }\n",
       "\n",
       "    .dataframe tbody tr th {\n",
       "        vertical-align: top;\n",
       "    }\n",
       "\n",
       "    .dataframe thead th {\n",
       "        text-align: right;\n",
       "    }\n",
       "</style>\n",
       "<table border=\"1\" class=\"dataframe\">\n",
       "  <thead>\n",
       "    <tr style=\"text-align: right;\">\n",
       "      <th></th>\n",
       "      <th>df</th>\n",
       "      <th>sum_sq</th>\n",
       "      <th>mean_sq</th>\n",
       "      <th>F</th>\n",
       "      <th>PR(&gt;F)</th>\n",
       "    </tr>\n",
       "  </thead>\n",
       "  <tbody>\n",
       "    <tr>\n",
       "      <th>C(passenger_count)</th>\n",
       "      <td>5.0</td>\n",
       "      <td>2.828216e+03</td>\n",
       "      <td>565.643267</td>\n",
       "      <td>5.055336</td>\n",
       "      <td>1.241770e-04</td>\n",
       "    </tr>\n",
       "    <tr>\n",
       "      <th>C(year)</th>\n",
       "      <td>6.0</td>\n",
       "      <td>2.034440e+04</td>\n",
       "      <td>3390.733858</td>\n",
       "      <td>30.304079</td>\n",
       "      <td>2.284210e-36</td>\n",
       "    </tr>\n",
       "    <tr>\n",
       "      <th>C(month)</th>\n",
       "      <td>11.0</td>\n",
       "      <td>6.459352e+03</td>\n",
       "      <td>587.213829</td>\n",
       "      <td>5.248119</td>\n",
       "      <td>2.535244e-08</td>\n",
       "    </tr>\n",
       "    <tr>\n",
       "      <th>C(dayofweek)</th>\n",
       "      <td>6.0</td>\n",
       "      <td>1.303777e+03</td>\n",
       "      <td>217.296135</td>\n",
       "      <td>1.942045</td>\n",
       "      <td>7.026184e-02</td>\n",
       "    </tr>\n",
       "    <tr>\n",
       "      <th>C(hour)</th>\n",
       "      <td>23.0</td>\n",
       "      <td>9.145410e+03</td>\n",
       "      <td>397.626514</td>\n",
       "      <td>3.553716</td>\n",
       "      <td>1.759060e-08</td>\n",
       "    </tr>\n",
       "    <tr>\n",
       "      <th>Residual</th>\n",
       "      <td>15802.0</td>\n",
       "      <td>1.768091e+06</td>\n",
       "      <td>111.890345</td>\n",
       "      <td>NaN</td>\n",
       "      <td>NaN</td>\n",
       "    </tr>\n",
       "  </tbody>\n",
       "</table>\n",
       "</div>"
      ],
      "text/plain": [
       "                         df        sum_sq      mean_sq          F  \\\n",
       "C(passenger_count)      5.0  2.828216e+03   565.643267   5.055336   \n",
       "C(year)                 6.0  2.034440e+04  3390.733858  30.304079   \n",
       "C(month)               11.0  6.459352e+03   587.213829   5.248119   \n",
       "C(dayofweek)            6.0  1.303777e+03   217.296135   1.942045   \n",
       "C(hour)                23.0  9.145410e+03   397.626514   3.553716   \n",
       "Residual            15802.0  1.768091e+06   111.890345        NaN   \n",
       "\n",
       "                          PR(>F)  \n",
       "C(passenger_count)  1.241770e-04  \n",
       "C(year)             2.284210e-36  \n",
       "C(month)            2.535244e-08  \n",
       "C(dayofweek)        7.026184e-02  \n",
       "C(hour)             1.759060e-08  \n",
       "Residual                     NaN  "
      ]
     },
     "execution_count": 59,
     "metadata": {},
     "output_type": "execute_result"
    }
   ],
   "source": [
    "#ANOVA Analysis\n",
    "model = ols('fare_amount ~ C(passenger_count)+C(year)+C(month)+C(dayofweek)+C(hour)',data=train).fit()\n",
    "                \n",
    "aov_table = sm.stats.anova_lm(model)\n",
    "aov_table"
   ]
  },
  {
   "cell_type": "markdown",
   "metadata": {},
   "source": [
    "Every variable has p-value less than 0.05 therefore we reject the null hypothesis."
   ]
  },
  {
   "cell_type": "markdown",
   "metadata": {},
   "source": [
    "# Feature Scaling"
   ]
  },
  {
   "cell_type": "code",
   "execution_count": 60,
   "metadata": {},
   "outputs": [
    {
     "data": {
      "text/plain": [
       "fare_amount    114.058688\n",
       "dist             2.563591\n",
       "dtype: float64"
      ]
     },
     "execution_count": 60,
     "metadata": {},
     "output_type": "execute_result"
    }
   ],
   "source": [
    "train[numeric].var()"
   ]
  },
  {
   "cell_type": "code",
   "execution_count": 61,
   "metadata": {},
   "outputs": [
    {
     "data": {
      "text/plain": [
       "<matplotlib.axes._subplots.AxesSubplot at 0x1dd0096d2c8>"
      ]
     },
     "execution_count": 61,
     "metadata": {},
     "output_type": "execute_result"
    },
    {
     "data": {
      "image/png": "[encoded data removed]",
      "text/plain": [
       "<Figure size 432x288 with 1 Axes>"
      ]
     },
     "metadata": {
      "needs_background": "light"
     },
     "output_type": "display_data"
    }
   ],
   "source": [
    "sns.distplot(train['dist'],bins=50)\n",
    "# plt.savefig('distplot.png')"
   ]
  },
  {
   "cell_type": "code",
   "execution_count": 62,
   "metadata": {},
   "outputs": [
    {
     "data": {
      "text/plain": [
       "((array([-3.92303791, -3.70397834, -3.58398416, ...,  3.58398416,\n",
       "          3.70397834,  3.92303791]),\n",
       "  array([2.01868456e-04, 2.37856157e-04, 2.79161656e-04, ...,\n",
       "         7.81429837e+00, 7.81940990e+00, 7.82314249e+00])),\n",
       " (1.5191440710987194, 2.3725596284926063, 0.9486059849811295))"
      ]
     },
     "execution_count": 62,
     "metadata": {},
     "output_type": "execute_result"
    },
    {
     "data": {
      "image/png": "[encoded data removed]",
      "text/plain": [
       "<Figure size 432x288 with 1 Axes>"
      ]
     },
     "metadata": {
      "needs_background": "light"
     },
     "output_type": "display_data"
    }
   ],
   "source": [
    "plt.figure()\n",
    "stats.probplot(train['dist'], dist='norm', fit=True,plot=plt)\n",
    "# plt.savefig('qq prob plot.png')"
   ]
  },
  {
   "cell_type": "code",
   "execution_count": 63,
   "metadata": {},
   "outputs": [],
   "source": [
    "#Normalization\n",
    "train['dist'] = (train['dist'] - min(train['dist']))/(max(train['dist']) - min(train['dist']))"
   ]
  },
  {
   "cell_type": "code",
   "execution_count": 64,
   "metadata": {},
   "outputs": [
    {
     "data": {
      "text/plain": [
       "<matplotlib.axes._subplots.AxesSubplot at 0x1dd00542e48>"
      ]
     },
     "execution_count": 64,
     "metadata": {},
     "output_type": "execute_result"
    },
    {
     "data": {
      "image/png": "[encoded data removed]",
      "text/plain": [
       "<Figure size 432x288 with 1 Axes>"
      ]
     },
     "metadata": {
      "needs_background": "light"
     },
     "output_type": "display_data"
    }
   ],
   "source": [
    "sns.distplot(train['dist'],bins=50)\n",
    "#plt.savefig('distplot.png')"
   ]
  },
  {
   "cell_type": "markdown",
   "metadata": {},
   "source": [
    "# Model Development"
   ]
  },
  {
   "cell_type": "code",
   "execution_count": 65,
   "metadata": {},
   "outputs": [],
   "source": [
    "#Load libraries\n",
    "from sklearn.model_selection import train_test_split\n",
    "from sklearn.tree import DecisionTreeRegressor"
   ]
  },
  {
   "cell_type": "code",
   "execution_count": 66,
   "metadata": {},
   "outputs": [],
   "source": [
    "# Divide the data into train and test\n",
    "train1, test1 = train_test_split(train, test_size=0.2)"
   ]
  },
  {
   "cell_type": "code",
   "execution_count": 67,
   "metadata": {},
   "outputs": [
    {
     "data": {
      "text/plain": [
       "(12683, 7)"
      ]
     },
     "execution_count": 67,
     "metadata": {},
     "output_type": "execute_result"
    }
   ],
   "source": [
    "train1.shape"
   ]
  },
  {
   "cell_type": "code",
   "execution_count": 68,
   "metadata": {},
   "outputs": [
    {
     "data": {
      "text/plain": [
       "Index(['fare_amount', 'passenger_count', 'year', 'month', 'dayofweek', 'hour',\n",
       "       'dist'],\n",
       "      dtype='object')"
      ]
     },
     "execution_count": 68,
     "metadata": {},
     "output_type": "execute_result"
    }
   ],
   "source": [
    "train.columns"
   ]
  },
  {
   "cell_type": "code",
   "execution_count": 69,
   "metadata": {},
   "outputs": [],
   "source": [
    "#Linear Regression\n",
    "#Combine all the values in one array\n",
    "values=['fare_amount', 'year','month', 'dayofweek', 'hour', 'dist']\n",
    "linear_Data = train[values]"
   ]
  },
  {
   "cell_type": "code",
   "execution_count": 70,
   "metadata": {},
   "outputs": [],
   "source": [
    "#This function is developed to get columns for specific passenger count. The idea is developed from R linear regression fit, \n",
    "#which explains all the passenger count individualy contributes in the model \n",
    "\n",
    "cat_names = ['passenger_count'] \n",
    "for i in cat_names:\n",
    "    temp = pd.get_dummies(train[i], prefix= i)\n",
    "    linear_Data = linear_Data.join(temp)"
   ]
  },
  {
   "cell_type": "code",
   "execution_count": 71,
   "metadata": {},
   "outputs": [],
   "source": [
    "#Spliting the newly created data set with passenger count dummies\n",
    "train1, test1 = train_test_split(linear_Data, test_size=0.2)"
   ]
  },
  {
   "cell_type": "code",
   "execution_count": 72,
   "metadata": {},
   "outputs": [
    {
     "data": {
      "text/html": [
       "<div>\n",
       "<style scoped>\n",
       "    .dataframe tbody tr th:only-of-type {\n",
       "        vertical-align: middle;\n",
       "    }\n",
       "\n",
       "    .dataframe tbody tr th {\n",
       "        vertical-align: top;\n",
       "    }\n",
       "\n",
       "    .dataframe thead th {\n",
       "        text-align: right;\n",
       "    }\n",
       "</style>\n",
       "<table border=\"1\" class=\"dataframe\">\n",
       "  <thead>\n",
       "    <tr style=\"text-align: right;\">\n",
       "      <th></th>\n",
       "      <th>year</th>\n",
       "      <th>month</th>\n",
       "      <th>dayofweek</th>\n",
       "      <th>hour</th>\n",
       "      <th>dist</th>\n",
       "      <th>passenger_count_1</th>\n",
       "      <th>passenger_count_2</th>\n",
       "      <th>passenger_count_3</th>\n",
       "      <th>passenger_count_4</th>\n",
       "      <th>passenger_count_5</th>\n",
       "      <th>passenger_count_6</th>\n",
       "    </tr>\n",
       "  </thead>\n",
       "  <tbody>\n",
       "    <tr>\n",
       "      <th>9732</th>\n",
       "      <td>2010</td>\n",
       "      <td>10</td>\n",
       "      <td>4</td>\n",
       "      <td>14</td>\n",
       "      <td>0.847913</td>\n",
       "      <td>1</td>\n",
       "      <td>0</td>\n",
       "      <td>0</td>\n",
       "      <td>0</td>\n",
       "      <td>0</td>\n",
       "      <td>0</td>\n",
       "    </tr>\n",
       "    <tr>\n",
       "      <th>14393</th>\n",
       "      <td>2012</td>\n",
       "      <td>12</td>\n",
       "      <td>2</td>\n",
       "      <td>12</td>\n",
       "      <td>0.249838</td>\n",
       "      <td>0</td>\n",
       "      <td>0</td>\n",
       "      <td>0</td>\n",
       "      <td>0</td>\n",
       "      <td>0</td>\n",
       "      <td>1</td>\n",
       "    </tr>\n",
       "    <tr>\n",
       "      <th>37</th>\n",
       "      <td>2012</td>\n",
       "      <td>1</td>\n",
       "      <td>3</td>\n",
       "      <td>10</td>\n",
       "      <td>0.121642</td>\n",
       "      <td>1</td>\n",
       "      <td>0</td>\n",
       "      <td>0</td>\n",
       "      <td>0</td>\n",
       "      <td>0</td>\n",
       "      <td>0</td>\n",
       "    </tr>\n",
       "    <tr>\n",
       "      <th>9493</th>\n",
       "      <td>2012</td>\n",
       "      <td>5</td>\n",
       "      <td>3</td>\n",
       "      <td>20</td>\n",
       "      <td>0.317243</td>\n",
       "      <td>0</td>\n",
       "      <td>0</td>\n",
       "      <td>0</td>\n",
       "      <td>0</td>\n",
       "      <td>1</td>\n",
       "      <td>0</td>\n",
       "    </tr>\n",
       "    <tr>\n",
       "      <th>15686</th>\n",
       "      <td>2014</td>\n",
       "      <td>5</td>\n",
       "      <td>3</td>\n",
       "      <td>9</td>\n",
       "      <td>0.696443</td>\n",
       "      <td>1</td>\n",
       "      <td>0</td>\n",
       "      <td>0</td>\n",
       "      <td>0</td>\n",
       "      <td>0</td>\n",
       "      <td>0</td>\n",
       "    </tr>\n",
       "    <tr>\n",
       "      <th>...</th>\n",
       "      <td>...</td>\n",
       "      <td>...</td>\n",
       "      <td>...</td>\n",
       "      <td>...</td>\n",
       "      <td>...</td>\n",
       "      <td>...</td>\n",
       "      <td>...</td>\n",
       "      <td>...</td>\n",
       "      <td>...</td>\n",
       "      <td>...</td>\n",
       "      <td>...</td>\n",
       "    </tr>\n",
       "    <tr>\n",
       "      <th>8090</th>\n",
       "      <td>2010</td>\n",
       "      <td>5</td>\n",
       "      <td>4</td>\n",
       "      <td>16</td>\n",
       "      <td>0.249838</td>\n",
       "      <td>1</td>\n",
       "      <td>0</td>\n",
       "      <td>0</td>\n",
       "      <td>0</td>\n",
       "      <td>0</td>\n",
       "      <td>0</td>\n",
       "    </tr>\n",
       "    <tr>\n",
       "      <th>11294</th>\n",
       "      <td>2015</td>\n",
       "      <td>1</td>\n",
       "      <td>3</td>\n",
       "      <td>19</td>\n",
       "      <td>0.006284</td>\n",
       "      <td>0</td>\n",
       "      <td>0</td>\n",
       "      <td>1</td>\n",
       "      <td>0</td>\n",
       "      <td>0</td>\n",
       "      <td>0</td>\n",
       "    </tr>\n",
       "    <tr>\n",
       "      <th>12298</th>\n",
       "      <td>2013</td>\n",
       "      <td>10</td>\n",
       "      <td>2</td>\n",
       "      <td>14</td>\n",
       "      <td>0.953744</td>\n",
       "      <td>0</td>\n",
       "      <td>1</td>\n",
       "      <td>0</td>\n",
       "      <td>0</td>\n",
       "      <td>0</td>\n",
       "      <td>0</td>\n",
       "    </tr>\n",
       "    <tr>\n",
       "      <th>14426</th>\n",
       "      <td>2010</td>\n",
       "      <td>10</td>\n",
       "      <td>6</td>\n",
       "      <td>17</td>\n",
       "      <td>0.275684</td>\n",
       "      <td>1</td>\n",
       "      <td>0</td>\n",
       "      <td>0</td>\n",
       "      <td>0</td>\n",
       "      <td>0</td>\n",
       "      <td>0</td>\n",
       "    </tr>\n",
       "    <tr>\n",
       "      <th>8584</th>\n",
       "      <td>2011</td>\n",
       "      <td>5</td>\n",
       "      <td>1</td>\n",
       "      <td>13</td>\n",
       "      <td>0.250694</td>\n",
       "      <td>1</td>\n",
       "      <td>0</td>\n",
       "      <td>0</td>\n",
       "      <td>0</td>\n",
       "      <td>0</td>\n",
       "      <td>0</td>\n",
       "    </tr>\n",
       "  </tbody>\n",
       "</table>\n",
       "<p>12683 rows × 11 columns</p>\n",
       "</div>"
      ],
      "text/plain": [
       "       year  month  dayofweek  hour      dist  passenger_count_1  \\\n",
       "9732   2010     10          4    14  0.847913                  1   \n",
       "14393  2012     12          2    12  0.249838                  0   \n",
       "37     2012      1          3    10  0.121642                  1   \n",
       "9493   2012      5          3    20  0.317243                  0   \n",
       "15686  2014      5          3     9  0.696443                  1   \n",
       "...     ...    ...        ...   ...       ...                ...   \n",
       "8090   2010      5          4    16  0.249838                  1   \n",
       "11294  2015      1          3    19  0.006284                  0   \n",
       "12298  2013     10          2    14  0.953744                  0   \n",
       "14426  2010     10          6    17  0.275684                  1   \n",
       "8584   2011      5          1    13  0.250694                  1   \n",
       "\n",
       "       passenger_count_2  passenger_count_3  passenger_count_4  \\\n",
       "9732                   0                  0                  0   \n",
       "14393                  0                  0                  0   \n",
       "37                     0                  0                  0   \n",
       "9493                   0                  0                  0   \n",
       "15686                  0                  0                  0   \n",
       "...                  ...                ...                ...   \n",
       "8090                   0                  0                  0   \n",
       "11294                  0                  1                  0   \n",
       "12298                  1                  0                  0   \n",
       "14426                  0                  0                  0   \n",
       "8584                   0                  0                  0   \n",
       "\n",
       "       passenger_count_5  passenger_count_6  \n",
       "9732                   0                  0  \n",
       "14393                  0                  1  \n",
       "37                     0                  0  \n",
       "9493                   1                  0  \n",
       "15686                  0                  0  \n",
       "...                  ...                ...  \n",
       "8090                   0                  0  \n",
       "11294                  0                  0  \n",
       "12298                  0                  0  \n",
       "14426                  0                  0  \n",
       "8584                   0                  0  \n",
       "\n",
       "[12683 rows x 11 columns]"
      ]
     },
     "execution_count": 72,
     "metadata": {},
     "output_type": "execute_result"
    }
   ],
   "source": [
    "train1.iloc[:, 1:12]"
   ]
  },
  {
   "cell_type": "code",
   "execution_count": 73,
   "metadata": {},
   "outputs": [],
   "source": [
    "# Train the model using the training sets\n",
    "model = sm.OLS(train1.iloc[:, 0].astype(float), train1.iloc[:, 1:12].astype(float)).fit()"
   ]
  },
  {
   "cell_type": "code",
   "execution_count": 74,
   "metadata": {},
   "outputs": [
    {
     "data": {
      "text/html": [
       "<table class=\"simpletable\">\n",
       "<caption>OLS Regression Results</caption>\n",
       "<tr>\n",
       "  <th>Dep. Variable:</th>       <td>fare_amount</td>   <th>  R-squared:         </th> <td>   0.074</td> \n",
       "</tr>\n",
       "<tr>\n",
       "  <th>Model:</th>                   <td>OLS</td>       <th>  Adj. R-squared:    </th> <td>   0.073</td> \n",
       "</tr>\n",
       "<tr>\n",
       "  <th>Method:</th>             <td>Least Squares</td>  <th>  F-statistic:       </th> <td>   101.0</td> \n",
       "</tr>\n",
       "<tr>\n",
       "  <th>Date:</th>             <td>Wed, 05 Aug 2020</td> <th>  Prob (F-statistic):</th> <td>2.40e-202</td>\n",
       "</tr>\n",
       "<tr>\n",
       "  <th>Time:</th>                 <td>13:58:51</td>     <th>  Log-Likelihood:    </th> <td> -47749.</td> \n",
       "</tr>\n",
       "<tr>\n",
       "  <th>No. Observations:</th>      <td> 12683</td>      <th>  AIC:               </th> <td>9.552e+04</td>\n",
       "</tr>\n",
       "<tr>\n",
       "  <th>Df Residuals:</th>          <td> 12672</td>      <th>  BIC:               </th> <td>9.560e+04</td>\n",
       "</tr>\n",
       "<tr>\n",
       "  <th>Df Model:</th>              <td>    10</td>      <th>                     </th>     <td> </td>    \n",
       "</tr>\n",
       "<tr>\n",
       "  <th>Covariance Type:</th>      <td>nonrobust</td>    <th>                     </th>     <td> </td>    \n",
       "</tr>\n",
       "</table>\n",
       "<table class=\"simpletable\">\n",
       "<tr>\n",
       "          <td></td>             <th>coef</th>     <th>std err</th>      <th>t</th>      <th>P>|t|</th>  <th>[0.025</th>    <th>0.975]</th>  \n",
       "</tr>\n",
       "<tr>\n",
       "  <th>year</th>              <td>    0.6204</td> <td>    0.051</td> <td>   12.272</td> <td> 0.000</td> <td>    0.521</td> <td>    0.720</td>\n",
       "</tr>\n",
       "<tr>\n",
       "  <th>month</th>             <td>    0.1236</td> <td>    0.027</td> <td>    4.555</td> <td> 0.000</td> <td>    0.070</td> <td>    0.177</td>\n",
       "</tr>\n",
       "<tr>\n",
       "  <th>dayofweek</th>         <td>   -0.0737</td> <td>    0.047</td> <td>   -1.551</td> <td> 0.121</td> <td>   -0.167</td> <td>    0.019</td>\n",
       "</tr>\n",
       "<tr>\n",
       "  <th>hour</th>              <td>   -0.0452</td> <td>    0.014</td> <td>   -3.156</td> <td> 0.002</td> <td>   -0.073</td> <td>   -0.017</td>\n",
       "</tr>\n",
       "<tr>\n",
       "  <th>dist</th>              <td>   12.8350</td> <td>    0.455</td> <td>   28.193</td> <td> 0.000</td> <td>   11.943</td> <td>   13.727</td>\n",
       "</tr>\n",
       "<tr>\n",
       "  <th>passenger_count_1</th> <td>-1240.8579</td> <td>  101.722</td> <td>  -12.198</td> <td> 0.000</td> <td>-1440.249</td> <td>-1041.467</td>\n",
       "</tr>\n",
       "<tr>\n",
       "  <th>passenger_count_2</th> <td>-1239.5935</td> <td>  101.721</td> <td>  -12.186</td> <td> 0.000</td> <td>-1438.982</td> <td>-1040.205</td>\n",
       "</tr>\n",
       "<tr>\n",
       "  <th>passenger_count_3</th> <td>-1240.4099</td> <td>  101.719</td> <td>  -12.194</td> <td> 0.000</td> <td>-1439.794</td> <td>-1041.026</td>\n",
       "</tr>\n",
       "<tr>\n",
       "  <th>passenger_count_4</th> <td>-1240.5865</td> <td>  101.725</td> <td>  -12.196</td> <td> 0.000</td> <td>-1439.982</td> <td>-1041.191</td>\n",
       "</tr>\n",
       "<tr>\n",
       "  <th>passenger_count_5</th> <td>-1240.6892</td> <td>  101.706</td> <td>  -12.199</td> <td> 0.000</td> <td>-1440.048</td> <td>-1041.331</td>\n",
       "</tr>\n",
       "<tr>\n",
       "  <th>passenger_count_6</th> <td>-1241.5740</td> <td>  101.789</td> <td>  -12.198</td> <td> 0.000</td> <td>-1441.096</td> <td>-1042.052</td>\n",
       "</tr>\n",
       "</table>\n",
       "<table class=\"simpletable\">\n",
       "<tr>\n",
       "  <th>Omnibus:</th>       <td>23672.140</td> <th>  Durbin-Watson:     </th>   <td>   1.987</td>   \n",
       "</tr>\n",
       "<tr>\n",
       "  <th>Prob(Omnibus):</th>  <td> 0.000</td>   <th>  Jarque-Bera (JB):  </th> <td>119007895.239</td>\n",
       "</tr>\n",
       "<tr>\n",
       "  <th>Skew:</th>           <td>13.630</td>   <th>  Prob(JB):          </th>   <td>    0.00</td>   \n",
       "</tr>\n",
       "<tr>\n",
       "  <th>Kurtosis:</th>       <td>476.767</td>  <th>  Cond. No.          </th>   <td>5.40e+06</td>   \n",
       "</tr>\n",
       "</table><br/><br/>Warnings:<br/>[1] Standard Errors assume that the covariance matrix of the errors is correctly specified.<br/>[2] The condition number is large, 5.4e+06. This might indicate that there are<br/>strong multicollinearity or other numerical problems."
      ],
      "text/plain": [
       "<class 'statsmodels.iolib.summary.Summary'>\n",
       "\"\"\"\n",
       "                            OLS Regression Results                            \n",
       "==============================================================================\n",
       "Dep. Variable:            fare_amount   R-squared:                       0.074\n",
       "Model:                            OLS   Adj. R-squared:                  0.073\n",
       "Method:                 Least Squares   F-statistic:                     101.0\n",
       "Date:                Wed, 05 Aug 2020   Prob (F-statistic):          2.40e-202\n",
       "Time:                        13:58:51   Log-Likelihood:                -47749.\n",
       "No. Observations:               12683   AIC:                         9.552e+04\n",
       "Df Residuals:                   12672   BIC:                         9.560e+04\n",
       "Df Model:                          10                                         \n",
       "Covariance Type:            nonrobust                                         \n",
       "=====================================================================================\n",
       "                        coef    std err          t      P>|t|      [0.025      0.975]\n",
       "-------------------------------------------------------------------------------------\n",
       "year                  0.6204      0.051     12.272      0.000       0.521       0.720\n",
       "month                 0.1236      0.027      4.555      0.000       0.070       0.177\n",
       "dayofweek            -0.0737      0.047     -1.551      0.121      -0.167       0.019\n",
       "hour                 -0.0452      0.014     -3.156      0.002      -0.073      -0.017\n",
       "dist                 12.8350      0.455     28.193      0.000      11.943      13.727\n",
       "passenger_count_1 -1240.8579    101.722    -12.198      0.000   -1440.249   -1041.467\n",
       "passenger_count_2 -1239.5935    101.721    -12.186      0.000   -1438.982   -1040.205\n",
       "passenger_count_3 -1240.4099    101.719    -12.194      0.000   -1439.794   -1041.026\n",
       "passenger_count_4 -1240.5865    101.725    -12.196      0.000   -1439.982   -1041.191\n",
       "passenger_count_5 -1240.6892    101.706    -12.199      0.000   -1440.048   -1041.331\n",
       "passenger_count_6 -1241.5740    101.789    -12.198      0.000   -1441.096   -1042.052\n",
       "==============================================================================\n",
       "Omnibus:                    23672.140   Durbin-Watson:                   1.987\n",
       "Prob(Omnibus):                  0.000   Jarque-Bera (JB):        119007895.239\n",
       "Skew:                          13.630   Prob(JB):                         0.00\n",
       "Kurtosis:                     476.767   Cond. No.                     5.40e+06\n",
       "==============================================================================\n",
       "\n",
       "Warnings:\n",
       "[1] Standard Errors assume that the covariance matrix of the errors is correctly specified.\n",
       "[2] The condition number is large, 5.4e+06. This might indicate that there are\n",
       "strong multicollinearity or other numerical problems.\n",
       "\"\"\""
      ]
     },
     "execution_count": 74,
     "metadata": {},
     "output_type": "execute_result"
    }
   ],
   "source": [
    "# Print out the statistics\n",
    "model.summary()"
   ]
  },
  {
   "cell_type": "code",
   "execution_count": 75,
   "metadata": {},
   "outputs": [],
   "source": [
    "# make the predictions by the model\n",
    "predictions_LR = model.predict(test1.iloc[:,1:12])"
   ]
  },
  {
   "cell_type": "code",
   "execution_count": 76,
   "metadata": {},
   "outputs": [],
   "source": [
    "#Calculate MAPE\n",
    "def MAPE(y_true, y_pred): \n",
    "    mape = np.mean(np.abs((y_true - y_pred) / y_true))*100\n",
    "    return mape"
   ]
  },
  {
   "cell_type": "code",
   "execution_count": 77,
   "metadata": {},
   "outputs": [
    {
     "data": {
      "text/plain": [
       "47.99919382282029"
      ]
     },
     "execution_count": 77,
     "metadata": {},
     "output_type": "execute_result"
    }
   ],
   "source": [
    "#Calculate MAPE\n",
    "MAPE(test1.iloc[:,0], predictions_LR)"
   ]
  },
  {
   "cell_type": "code",
   "execution_count": 78,
   "metadata": {},
   "outputs": [],
   "source": [
    "#Error - 47.99919382282029\n",
    "#Accuracy - 52.00080617717971"
   ]
  },
  {
   "cell_type": "code",
   "execution_count": 79,
   "metadata": {},
   "outputs": [],
   "source": [
    "# Decision tree for regression\n",
    "fit_DT = DecisionTreeRegressor(max_depth=2).fit(train1.iloc[:, 1:12], train1.iloc[:,0])"
   ]
  },
  {
   "cell_type": "code",
   "execution_count": 80,
   "metadata": {},
   "outputs": [
    {
     "data": {
      "text/plain": [
       "DecisionTreeRegressor(ccp_alpha=0.0, criterion='mse', max_depth=2,\n",
       "                      max_features=None, max_leaf_nodes=None,\n",
       "                      min_impurity_decrease=0.0, min_impurity_split=None,\n",
       "                      min_samples_leaf=1, min_samples_split=2,\n",
       "                      min_weight_fraction_leaf=0.0, presort='deprecated',\n",
       "                      random_state=None, splitter='best')"
      ]
     },
     "execution_count": 80,
     "metadata": {},
     "output_type": "execute_result"
    }
   ],
   "source": [
    "fit_DT"
   ]
  },
  {
   "cell_type": "code",
   "execution_count": 81,
   "metadata": {},
   "outputs": [],
   "source": [
    "#Apply model on test data\n",
    "predictions_DT = fit_DT.predict(test1.iloc[:,1:12])"
   ]
  },
  {
   "cell_type": "code",
   "execution_count": 82,
   "metadata": {},
   "outputs": [
    {
     "data": {
      "text/plain": [
       "35.2988778277751"
      ]
     },
     "execution_count": 82,
     "metadata": {},
     "output_type": "execute_result"
    }
   ],
   "source": [
    "MAPE(test1.iloc[:,0], predictions_DT)"
   ]
  },
  {
   "cell_type": "code",
   "execution_count": 83,
   "metadata": {},
   "outputs": [],
   "source": [
    "#Error = 35.2988778277751\n",
    "#Accuracy = 64.7011221722249"
   ]
  },
  {
   "cell_type": "code",
   "execution_count": 84,
   "metadata": {},
   "outputs": [],
   "source": [
    "#Random Forest for regression\n",
    "RF_model = RandomForestRegressor(n_estimators = 10).fit(train1.iloc[:, 1:12], train1.iloc[:,0])"
   ]
  },
  {
   "cell_type": "code",
   "execution_count": 85,
   "metadata": {},
   "outputs": [
    {
     "data": {
      "text/plain": [
       "RandomForestRegressor(bootstrap=True, ccp_alpha=0.0, criterion='mse',\n",
       "                      max_depth=None, max_features='auto', max_leaf_nodes=None,\n",
       "                      max_samples=None, min_impurity_decrease=0.0,\n",
       "                      min_impurity_split=None, min_samples_leaf=1,\n",
       "                      min_samples_split=2, min_weight_fraction_leaf=0.0,\n",
       "                      n_estimators=10, n_jobs=None, oob_score=False,\n",
       "                      random_state=None, verbose=0, warm_start=False)"
      ]
     },
     "execution_count": 85,
     "metadata": {},
     "output_type": "execute_result"
    }
   ],
   "source": [
    "RF_model"
   ]
  },
  {
   "cell_type": "code",
   "execution_count": 86,
   "metadata": {},
   "outputs": [],
   "source": [
    "RF_Predictions = RF_model.predict(test1.iloc[:, 1:12])"
   ]
  },
  {
   "cell_type": "code",
   "execution_count": 87,
   "metadata": {},
   "outputs": [
    {
     "data": {
      "text/plain": [
       "27.48467609783952"
      ]
     },
     "execution_count": 87,
     "metadata": {},
     "output_type": "execute_result"
    }
   ],
   "source": [
    "MAPE(test1.iloc[:,0], RF_Predictions)"
   ]
  },
  {
   "cell_type": "code",
   "execution_count": 88,
   "metadata": {},
   "outputs": [],
   "source": [
    "# Error = 27.48467609783952\n",
    "#Accuracy = 72.51532390216048"
   ]
  },
  {
   "cell_type": "markdown",
   "metadata": {},
   "source": [
    "# Prediction On Original Test Data "
   ]
  },
  {
   "cell_type": "code",
   "execution_count": 89,
   "metadata": {},
   "outputs": [],
   "source": [
    "#Loading Test Data\n",
    "pred=(pd.read_csv('test.csv', header = 0 ))"
   ]
  },
  {
   "cell_type": "code",
   "execution_count": 90,
   "metadata": {},
   "outputs": [],
   "source": [
    "#Changing the 'pickup_datetime' type from object to datetime\n",
    "pred['pickup_datetime'] =  pd.to_datetime(pred['pickup_datetime'], format='%Y-%m-%d %H:%M:%S UTC')"
   ]
  },
  {
   "cell_type": "code",
   "execution_count": 91,
   "metadata": {},
   "outputs": [
    {
     "data": {
      "text/plain": [
       "(9914, 6)"
      ]
     },
     "execution_count": 91,
     "metadata": {},
     "output_type": "execute_result"
    }
   ],
   "source": [
    "pred.shape"
   ]
  },
  {
   "cell_type": "code",
   "execution_count": 92,
   "metadata": {},
   "outputs": [],
   "source": [
    "# we will saperate the Pickup_datetime column into separate field like year, month, day of the week, etc\n",
    "\n",
    "pred['year'] = pred['pickup_datetime'].dt.year\n",
    "pred['Month'] = pred['pickup_datetime'].dt.month\n",
    "pred['Day'] = pred['pickup_datetime'].dt.dayofweek\n",
    "pred['Hour'] = pred['pickup_datetime'].dt.hour"
   ]
  },
  {
   "cell_type": "code",
   "execution_count": 93,
   "metadata": {},
   "outputs": [
    {
     "data": {
      "text/html": [
       "<div>\n",
       "<style scoped>\n",
       "    .dataframe tbody tr th:only-of-type {\n",
       "        vertical-align: middle;\n",
       "    }\n",
       "\n",
       "    .dataframe tbody tr th {\n",
       "        vertical-align: top;\n",
       "    }\n",
       "\n",
       "    .dataframe thead th {\n",
       "        text-align: right;\n",
       "    }\n",
       "</style>\n",
       "<table border=\"1\" class=\"dataframe\">\n",
       "  <thead>\n",
       "    <tr style=\"text-align: right;\">\n",
       "      <th></th>\n",
       "      <th>pickup_datetime</th>\n",
       "      <th>pickup_longitude</th>\n",
       "      <th>pickup_latitude</th>\n",
       "      <th>dropoff_longitude</th>\n",
       "      <th>dropoff_latitude</th>\n",
       "      <th>passenger_count</th>\n",
       "      <th>year</th>\n",
       "      <th>Month</th>\n",
       "      <th>Day</th>\n",
       "      <th>Hour</th>\n",
       "    </tr>\n",
       "  </thead>\n",
       "  <tbody>\n",
       "    <tr>\n",
       "      <th>0</th>\n",
       "      <td>2015-01-27 13:08:24</td>\n",
       "      <td>-73.973320</td>\n",
       "      <td>40.763805</td>\n",
       "      <td>-73.981430</td>\n",
       "      <td>40.743835</td>\n",
       "      <td>1</td>\n",
       "      <td>2015</td>\n",
       "      <td>1</td>\n",
       "      <td>1</td>\n",
       "      <td>13</td>\n",
       "    </tr>\n",
       "    <tr>\n",
       "      <th>1</th>\n",
       "      <td>2015-01-27 13:08:24</td>\n",
       "      <td>-73.986862</td>\n",
       "      <td>40.719383</td>\n",
       "      <td>-73.998886</td>\n",
       "      <td>40.739201</td>\n",
       "      <td>1</td>\n",
       "      <td>2015</td>\n",
       "      <td>1</td>\n",
       "      <td>1</td>\n",
       "      <td>13</td>\n",
       "    </tr>\n",
       "    <tr>\n",
       "      <th>2</th>\n",
       "      <td>2011-10-08 11:53:44</td>\n",
       "      <td>-73.982524</td>\n",
       "      <td>40.751260</td>\n",
       "      <td>-73.979654</td>\n",
       "      <td>40.746139</td>\n",
       "      <td>1</td>\n",
       "      <td>2011</td>\n",
       "      <td>10</td>\n",
       "      <td>5</td>\n",
       "      <td>11</td>\n",
       "    </tr>\n",
       "    <tr>\n",
       "      <th>3</th>\n",
       "      <td>2012-12-01 21:12:12</td>\n",
       "      <td>-73.981160</td>\n",
       "      <td>40.767807</td>\n",
       "      <td>-73.990448</td>\n",
       "      <td>40.751635</td>\n",
       "      <td>1</td>\n",
       "      <td>2012</td>\n",
       "      <td>12</td>\n",
       "      <td>5</td>\n",
       "      <td>21</td>\n",
       "    </tr>\n",
       "    <tr>\n",
       "      <th>4</th>\n",
       "      <td>2012-12-01 21:12:12</td>\n",
       "      <td>-73.966046</td>\n",
       "      <td>40.789775</td>\n",
       "      <td>-73.988565</td>\n",
       "      <td>40.744427</td>\n",
       "      <td>1</td>\n",
       "      <td>2012</td>\n",
       "      <td>12</td>\n",
       "      <td>5</td>\n",
       "      <td>21</td>\n",
       "    </tr>\n",
       "  </tbody>\n",
       "</table>\n",
       "</div>"
      ],
      "text/plain": [
       "      pickup_datetime  pickup_longitude  pickup_latitude  dropoff_longitude  \\\n",
       "0 2015-01-27 13:08:24        -73.973320        40.763805         -73.981430   \n",
       "1 2015-01-27 13:08:24        -73.986862        40.719383         -73.998886   \n",
       "2 2011-10-08 11:53:44        -73.982524        40.751260         -73.979654   \n",
       "3 2012-12-01 21:12:12        -73.981160        40.767807         -73.990448   \n",
       "4 2012-12-01 21:12:12        -73.966046        40.789775         -73.988565   \n",
       "\n",
       "   dropoff_latitude  passenger_count  year  Month  Day  Hour  \n",
       "0         40.743835                1  2015      1    1    13  \n",
       "1         40.739201                1  2015      1    1    13  \n",
       "2         40.746139                1  2011     10    5    11  \n",
       "3         40.751635                1  2012     12    5    21  \n",
       "4         40.744427                1  2012     12    5    21  "
      ]
     },
     "execution_count": 93,
     "metadata": {},
     "output_type": "execute_result"
    }
   ],
   "source": [
    "pred.head()"
   ]
  },
  {
   "cell_type": "code",
   "execution_count": 94,
   "metadata": {},
   "outputs": [],
   "source": [
    "#create dist variable\n",
    "pred['dist'] = \\\n",
    "    haversine( pred['pickup_latitude'], pred['pickup_longitude'],\n",
    "                 pred['dropoff_latitude'], pred['dropoff_longitude'])\n"
   ]
  },
  {
   "cell_type": "code",
   "execution_count": 95,
   "metadata": {},
   "outputs": [],
   "source": [
    "#Dropping Unwanted variables\n",
    "pred = pred.drop(['pickup_latitude','pickup_longitude','dropoff_latitude','dropoff_longitude','pickup_datetime'], axis = 1)"
   ]
  },
  {
   "cell_type": "code",
   "execution_count": 96,
   "metadata": {},
   "outputs": [],
   "source": [
    "pred['fare_amount']=0\n",
    "pred['passenger_count']=pred['passenger_count'].astype('category')"
   ]
  },
  {
   "cell_type": "code",
   "execution_count": 97,
   "metadata": {},
   "outputs": [
    {
     "data": {
      "text/plain": [
       "(9914, 7)"
      ]
     },
     "execution_count": 97,
     "metadata": {},
     "output_type": "execute_result"
    }
   ],
   "source": [
    "pred.shape"
   ]
  },
  {
   "cell_type": "code",
   "execution_count": 98,
   "metadata": {},
   "outputs": [],
   "source": [
    "# Build model on the entire Train data\n",
    "RF_model = RandomForestRegressor(n_estimators = 10).fit(train.iloc[:, 1:7], train.iloc[:,0])\n",
    "\n",
    "#predict value\n",
    "pred['fare_amount'] = RF_model.predict(pred.iloc[:, 0:6])"
   ]
  },
  {
   "cell_type": "code",
   "execution_count": 100,
   "metadata": {},
   "outputs": [],
   "source": [
    "#write output to csv\n",
    "\n",
    "#pred.to_csv(\"Predicted_Values.csv\", index = False)"
   ]
  }
 ],
 "metadata": {
  "kernelspec": {
   "display_name": "Python 3",
   "language": "python",
   "name": "python3"
  },
  "language_info": {
   "codemirror_mode": {
    "name": "ipython",
    "version": 3
   },
   "file_extension": ".py",
   "mimetype": "text/x-python",
   "name": "python",
   "nbconvert_exporter": "python",
   "pygments_lexer": "ipython3",
   "version": "3.7.7"
  }
 },
 "nbformat": 4,
 "nbformat_minor": 4
}
